{
 "cells": [
  {
   "cell_type": "code",
   "execution_count": null,
   "id": "0b438c19",
   "metadata": {},
   "outputs": [],
   "source": [
    "import os\n",
    "import json\n",
    "import numpy as np \n",
    "import pandas as pd\n",
    "from sklearn.cluster import KMeans\n",
    "from sklearn.preprocessing import StandardScaler\n",
    "from sentence_transformers import SentenceTransformer"
   ]
  },
  {
   "cell_type": "code",
   "execution_count": null,
   "id": "e0094183",
   "metadata": {},
   "outputs": [],
   "source": [
    "with open(\"student_grades.json\", \"r\") as f:\n",
    "    student_grades = json.load(f)"
   ]
  },
  {
   "cell_type": "code",
   "execution_count": null,
   "id": "891dbdce",
   "metadata": {},
   "outputs": [],
   "source": [
    "\n",
    "embedder = SentenceTransformer(\"all-MiniLM-L6-v2\")\n",
    "\n",
    "student_vectors = {}\n",
    "for student_id, skills in student_grades.items():\n",
    "    grades = []\n",
    "    explanations = []\n",
    "\n",
    "    for skill, data in skills.items():\n",
    "        if skill == \"global grade\":\n",
    "            continue\n",
    "        grades.append(data[\"grade\"])\n",
    "        explanations.append(data[\"explanation\"])\n",
    "\n",
    "    # Mean embedding of the explanations\n",
    "    explanation_embeddings = embedder.encode(explanations)\n",
    "    explanation_vector = np.mean(explanation_embeddings, axis=0)\n",
    "\n",
    "    # Concatenate grades and embeddings\n",
    "    full_vector = np.concatenate([grades, explanation_vector])\n",
    "    student_vectors[student_id] = full_vector\n",
    "\n",
    "### Clustering\n",
    "X = np.array(list(student_vectors.values()))\n",
    "student_ids = list(student_vectors.keys())\n",
    "\n",
    "scaler = StandardScaler()\n",
    "X_scaled = scaler.fit_transform(X)\n",
    "\n",
    "kmeans = KMeans(n_clusters=2, random_state=42)\n",
    "clusters = kmeans.fit_predict(X_scaled)\n",
    "\n",
    "df_clusters = pd.DataFrame({\n",
    "    \"student_id\": student_ids,\n",
    "    \"cluster\": clusters\n",
    "})\n",
    "\n",
    "print(df_clusters)\n"
   ]
  },
  {
   "cell_type": "code",
   "execution_count": null,
   "id": "0e89eb81",
   "metadata": {},
   "outputs": [],
   "source": [
    "from sklearn.decomposition import PCA\n",
    "import plotly.express as px\n",
    "\n",
    "## PCA for visualization\n",
    "pca = PCA(n_components=2, random_state=42)\n",
    "X_pca = pca.fit_transform(X_scaled)\n",
    "\n",
    "df_clusters = pd.DataFrame({\n",
    "    \"student_id\": student_ids,\n",
    "    \"cluster\": clusters,\n",
    "    \"PC1\": X_pca[:, 0],\n",
    "    \"PC2\": X_pca[:, 1]\n",
    "})\n",
    "\n",
    "df_clusters[\"cluster\"] = df_clusters[\"cluster\"].astype(str)\n",
    "\n",
    "fig = px.scatter(\n",
    "    df_clusters,\n",
    "    x=\"PC1\",\n",
    "    y=\"PC2\",\n",
    "    color=\"cluster\",\n",
    "    text=\"student_id\",\n",
    "    title=\"Student clustering with KMeans (PCA)\"\n",
    ")\n",
    "\n",
    "centroids_pca = pca.transform(kmeans.cluster_centers_)\n",
    "fig.add_scatter(\n",
    "    x=centroids_pca[:, 0],\n",
    "    y=centroids_pca[:, 1],\n",
    "    mode=\"markers\",\n",
    "    marker=dict(color=\"black\", size=15, symbol=\"x\"),\n",
    "    name=\"Centroids\"\n",
    ")\n",
    "\n",
    "fig.show()\n"
   ]
  }
 ],
 "metadata": {
  "kernelspec": {
   "display_name": "students_env",
   "language": "python",
   "name": "python3"
  },
  "language_info": {
   "codemirror_mode": {
    "name": "ipython",
    "version": 3
   },
   "file_extension": ".py",
   "mimetype": "text/x-python",
   "name": "python",
   "nbconvert_exporter": "python",
   "pygments_lexer": "ipython3",
   "version": "3.10.13"
  }
 },
 "nbformat": 4,
 "nbformat_minor": 5
}
