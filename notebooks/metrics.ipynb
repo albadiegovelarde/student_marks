{
 "cells": [
  {
   "cell_type": "code",
   "execution_count": 1,
   "id": "813de180",
   "metadata": {},
   "outputs": [],
   "source": [
    "import pandas as pd\n",
    "import plotly.graph_objects as go"
   ]
  },
  {
   "cell_type": "code",
   "execution_count": 2,
   "id": "f42dca1d",
   "metadata": {},
   "outputs": [],
   "source": [
    "import sys\n",
    "import os \n",
    "sys.path.append(\"../student_marks\")"
   ]
  },
  {
   "cell_type": "code",
   "execution_count": 3,
   "id": "0798e5a2",
   "metadata": {},
   "outputs": [],
   "source": [
    "repo_root = os.path.abspath(\"..\")\n",
    "gt_path = os.path.join(repo_root, \"data/student_grades_ground_truth.xlsx\")\n",
    "preds_path = os.path.join(repo_root, \"data/student_grades.xlsx\")\n",
    "student_grades_gt = pd.read_excel(gt_path)\n",
    "student_grade_predictions = pd.read_excel(preds_path)"
   ]
  },
  {
   "cell_type": "code",
   "execution_count": 4,
   "id": "c151bc90",
   "metadata": {},
   "outputs": [
    {
     "data": {
      "text/html": [
       "<div>\n",
       "<style scoped>\n",
       "    .dataframe tbody tr th:only-of-type {\n",
       "        vertical-align: middle;\n",
       "    }\n",
       "\n",
       "    .dataframe tbody tr th {\n",
       "        vertical-align: top;\n",
       "    }\n",
       "\n",
       "    .dataframe thead th {\n",
       "        text-align: right;\n",
       "    }\n",
       "</style>\n",
       "<table border=\"1\" class=\"dataframe\">\n",
       "  <thead>\n",
       "    <tr style=\"text-align: right;\">\n",
       "      <th></th>\n",
       "      <th>student_id</th>\n",
       "      <th>skill</th>\n",
       "      <th>report</th>\n",
       "      <th>grade</th>\n",
       "      <th>weight</th>\n",
       "      <th>global_grade</th>\n",
       "    </tr>\n",
       "  </thead>\n",
       "  <tbody>\n",
       "    <tr>\n",
       "      <th>0</th>\n",
       "      <td>student_1</td>\n",
       "      <td>academic_skills</td>\n",
       "      <td>academic_skills: The student has demonstrate...</td>\n",
       "      <td>10</td>\n",
       "      <td>0.3</td>\n",
       "      <td>10.0</td>\n",
       "    </tr>\n",
       "    <tr>\n",
       "      <th>1</th>\n",
       "      <td>student_1</td>\n",
       "      <td>socioemotional_skills</td>\n",
       "      <td>academic_skills: The student has demonstrate...</td>\n",
       "      <td>10</td>\n",
       "      <td>0.1</td>\n",
       "      <td>10.0</td>\n",
       "    </tr>\n",
       "    <tr>\n",
       "      <th>2</th>\n",
       "      <td>student_1</td>\n",
       "      <td>learning_and_thinking_skills</td>\n",
       "      <td>academic_skills: The student has demonstrate...</td>\n",
       "      <td>10</td>\n",
       "      <td>0.2</td>\n",
       "      <td>10.0</td>\n",
       "    </tr>\n",
       "    <tr>\n",
       "      <th>3</th>\n",
       "      <td>student_1</td>\n",
       "      <td>communication_skills</td>\n",
       "      <td>academic_skills: The student has demonstrate...</td>\n",
       "      <td>10</td>\n",
       "      <td>0.2</td>\n",
       "      <td>10.0</td>\n",
       "    </tr>\n",
       "    <tr>\n",
       "      <th>4</th>\n",
       "      <td>student_1</td>\n",
       "      <td>guidance_skills</td>\n",
       "      <td>academic_skills: The student has demonstrate...</td>\n",
       "      <td>10</td>\n",
       "      <td>0.2</td>\n",
       "      <td>10.0</td>\n",
       "    </tr>\n",
       "    <tr>\n",
       "      <th>5</th>\n",
       "      <td>student_2</td>\n",
       "      <td>academic_skills</td>\n",
       "      <td>academic_skills: The student shows interest ...</td>\n",
       "      <td>6</td>\n",
       "      <td>0.3</td>\n",
       "      <td>6.2</td>\n",
       "    </tr>\n",
       "    <tr>\n",
       "      <th>6</th>\n",
       "      <td>student_2</td>\n",
       "      <td>socioemotional_skills</td>\n",
       "      <td>academic_skills: The student shows interest ...</td>\n",
       "      <td>8</td>\n",
       "      <td>0.1</td>\n",
       "      <td>6.2</td>\n",
       "    </tr>\n",
       "    <tr>\n",
       "      <th>7</th>\n",
       "      <td>student_2</td>\n",
       "      <td>learning_and_thinking_skills</td>\n",
       "      <td>academic_skills: The student shows interest ...</td>\n",
       "      <td>6</td>\n",
       "      <td>0.2</td>\n",
       "      <td>6.2</td>\n",
       "    </tr>\n",
       "    <tr>\n",
       "      <th>8</th>\n",
       "      <td>student_2</td>\n",
       "      <td>communication_skills</td>\n",
       "      <td>academic_skills: The student shows interest ...</td>\n",
       "      <td>6</td>\n",
       "      <td>0.2</td>\n",
       "      <td>6.2</td>\n",
       "    </tr>\n",
       "    <tr>\n",
       "      <th>9</th>\n",
       "      <td>student_2</td>\n",
       "      <td>guidance_skills</td>\n",
       "      <td>academic_skills: The student shows interest ...</td>\n",
       "      <td>6</td>\n",
       "      <td>0.2</td>\n",
       "      <td>6.2</td>\n",
       "    </tr>\n",
       "    <tr>\n",
       "      <th>10</th>\n",
       "      <td>student_3</td>\n",
       "      <td>academic_skills</td>\n",
       "      <td>academic_skills: The student shows frequent ...</td>\n",
       "      <td>4</td>\n",
       "      <td>0.3</td>\n",
       "      <td>4.0</td>\n",
       "    </tr>\n",
       "    <tr>\n",
       "      <th>11</th>\n",
       "      <td>student_3</td>\n",
       "      <td>socioemotional_skills</td>\n",
       "      <td>academic_skills: The student shows frequent ...</td>\n",
       "      <td>4</td>\n",
       "      <td>0.1</td>\n",
       "      <td>4.0</td>\n",
       "    </tr>\n",
       "    <tr>\n",
       "      <th>12</th>\n",
       "      <td>student_3</td>\n",
       "      <td>learning_and_thinking_skills</td>\n",
       "      <td>academic_skills: The student shows frequent ...</td>\n",
       "      <td>4</td>\n",
       "      <td>0.2</td>\n",
       "      <td>4.0</td>\n",
       "    </tr>\n",
       "    <tr>\n",
       "      <th>13</th>\n",
       "      <td>student_3</td>\n",
       "      <td>communication_skills</td>\n",
       "      <td>academic_skills: The student shows frequent ...</td>\n",
       "      <td>6</td>\n",
       "      <td>0.2</td>\n",
       "      <td>4.0</td>\n",
       "    </tr>\n",
       "    <tr>\n",
       "      <th>14</th>\n",
       "      <td>student_3</td>\n",
       "      <td>guidance_skills</td>\n",
       "      <td>academic_skills: The student shows frequent ...</td>\n",
       "      <td>2</td>\n",
       "      <td>0.2</td>\n",
       "      <td>4.0</td>\n",
       "    </tr>\n",
       "    <tr>\n",
       "      <th>15</th>\n",
       "      <td>student_4</td>\n",
       "      <td>academic_skills</td>\n",
       "      <td>academic_skills: The student shows an adequa...</td>\n",
       "      <td>6</td>\n",
       "      <td>0.3</td>\n",
       "      <td>5.2</td>\n",
       "    </tr>\n",
       "    <tr>\n",
       "      <th>16</th>\n",
       "      <td>student_4</td>\n",
       "      <td>socioemotional_skills</td>\n",
       "      <td>academic_skills: The student shows an adequa...</td>\n",
       "      <td>6</td>\n",
       "      <td>0.1</td>\n",
       "      <td>5.2</td>\n",
       "    </tr>\n",
       "    <tr>\n",
       "      <th>17</th>\n",
       "      <td>student_4</td>\n",
       "      <td>learning_and_thinking_skills</td>\n",
       "      <td>academic_skills: The student shows an adequa...</td>\n",
       "      <td>4</td>\n",
       "      <td>0.2</td>\n",
       "      <td>5.2</td>\n",
       "    </tr>\n",
       "    <tr>\n",
       "      <th>18</th>\n",
       "      <td>student_4</td>\n",
       "      <td>communication_skills</td>\n",
       "      <td>academic_skills: The student shows an adequa...</td>\n",
       "      <td>4</td>\n",
       "      <td>0.2</td>\n",
       "      <td>5.2</td>\n",
       "    </tr>\n",
       "    <tr>\n",
       "      <th>19</th>\n",
       "      <td>student_4</td>\n",
       "      <td>guidance_skills</td>\n",
       "      <td>academic_skills: The student shows an adequa...</td>\n",
       "      <td>6</td>\n",
       "      <td>0.2</td>\n",
       "      <td>5.2</td>\n",
       "    </tr>\n",
       "  </tbody>\n",
       "</table>\n",
       "</div>"
      ],
      "text/plain": [
       "   student_id                         skill  \\\n",
       "0   student_1               academic_skills   \n",
       "1   student_1         socioemotional_skills   \n",
       "2   student_1  learning_and_thinking_skills   \n",
       "3   student_1          communication_skills   \n",
       "4   student_1               guidance_skills   \n",
       "5   student_2               academic_skills   \n",
       "6   student_2         socioemotional_skills   \n",
       "7   student_2  learning_and_thinking_skills   \n",
       "8   student_2          communication_skills   \n",
       "9   student_2               guidance_skills   \n",
       "10  student_3               academic_skills   \n",
       "11  student_3         socioemotional_skills   \n",
       "12  student_3  learning_and_thinking_skills   \n",
       "13  student_3          communication_skills   \n",
       "14  student_3               guidance_skills   \n",
       "15  student_4               academic_skills   \n",
       "16  student_4         socioemotional_skills   \n",
       "17  student_4  learning_and_thinking_skills   \n",
       "18  student_4          communication_skills   \n",
       "19  student_4               guidance_skills   \n",
       "\n",
       "                                               report  grade  weight  \\\n",
       "0     academic_skills: The student has demonstrate...     10     0.3   \n",
       "1     academic_skills: The student has demonstrate...     10     0.1   \n",
       "2     academic_skills: The student has demonstrate...     10     0.2   \n",
       "3     academic_skills: The student has demonstrate...     10     0.2   \n",
       "4     academic_skills: The student has demonstrate...     10     0.2   \n",
       "5     academic_skills: The student shows interest ...      6     0.3   \n",
       "6     academic_skills: The student shows interest ...      8     0.1   \n",
       "7     academic_skills: The student shows interest ...      6     0.2   \n",
       "8     academic_skills: The student shows interest ...      6     0.2   \n",
       "9     academic_skills: The student shows interest ...      6     0.2   \n",
       "10    academic_skills: The student shows frequent ...      4     0.3   \n",
       "11    academic_skills: The student shows frequent ...      4     0.1   \n",
       "12    academic_skills: The student shows frequent ...      4     0.2   \n",
       "13    academic_skills: The student shows frequent ...      6     0.2   \n",
       "14    academic_skills: The student shows frequent ...      2     0.2   \n",
       "15    academic_skills: The student shows an adequa...      6     0.3   \n",
       "16    academic_skills: The student shows an adequa...      6     0.1   \n",
       "17    academic_skills: The student shows an adequa...      4     0.2   \n",
       "18    academic_skills: The student shows an adequa...      4     0.2   \n",
       "19    academic_skills: The student shows an adequa...      6     0.2   \n",
       "\n",
       "    global_grade  \n",
       "0           10.0  \n",
       "1           10.0  \n",
       "2           10.0  \n",
       "3           10.0  \n",
       "4           10.0  \n",
       "5            6.2  \n",
       "6            6.2  \n",
       "7            6.2  \n",
       "8            6.2  \n",
       "9            6.2  \n",
       "10           4.0  \n",
       "11           4.0  \n",
       "12           4.0  \n",
       "13           4.0  \n",
       "14           4.0  \n",
       "15           5.2  \n",
       "16           5.2  \n",
       "17           5.2  \n",
       "18           5.2  \n",
       "19           5.2  "
      ]
     },
     "execution_count": 4,
     "metadata": {},
     "output_type": "execute_result"
    }
   ],
   "source": [
    "student_grades_gt[\"student_id\"] = student_grades_gt[\"student_id\"].ffill()\n",
    "student_grades_gt[\"report\"] = student_grades_gt[\"report\"].ffill()\n",
    "student_grades_gt[\"global_grade\"] = student_grades_gt[\"global_grade\"].ffill()\n",
    "student_grades_gt"
   ]
  },
  {
   "cell_type": "code",
   "execution_count": 5,
   "id": "b557f62e",
   "metadata": {},
   "outputs": [
    {
     "data": {
      "text/html": [
       "<div>\n",
       "<style scoped>\n",
       "    .dataframe tbody tr th:only-of-type {\n",
       "        vertical-align: middle;\n",
       "    }\n",
       "\n",
       "    .dataframe tbody tr th {\n",
       "        vertical-align: top;\n",
       "    }\n",
       "\n",
       "    .dataframe thead th {\n",
       "        text-align: right;\n",
       "    }\n",
       "</style>\n",
       "<table border=\"1\" class=\"dataframe\">\n",
       "  <thead>\n",
       "    <tr style=\"text-align: right;\">\n",
       "      <th></th>\n",
       "      <th>student_id</th>\n",
       "      <th>skill</th>\n",
       "      <th>grade</th>\n",
       "      <th>explanation</th>\n",
       "      <th>relevant_chunks</th>\n",
       "      <th>global_grade</th>\n",
       "    </tr>\n",
       "  </thead>\n",
       "  <tbody>\n",
       "    <tr>\n",
       "      <th>0</th>\n",
       "      <td>student_1</td>\n",
       "      <td>academic_skills</td>\n",
       "      <td>8</td>\n",
       "      <td>The student received the grade 8 for the compe...</td>\n",
       "      <td>['academic_skills: The student has demonstrate...</td>\n",
       "      <td>8.0</td>\n",
       "    </tr>\n",
       "    <tr>\n",
       "      <th>1</th>\n",
       "      <td>student_1</td>\n",
       "      <td>socioemotional_skills</td>\n",
       "      <td>8</td>\n",
       "      <td>The student received the grade 8 for the compe...</td>\n",
       "      <td>['skills: The student shows great autonomy in ...</td>\n",
       "      <td>8.0</td>\n",
       "    </tr>\n",
       "    <tr>\n",
       "      <th>2</th>\n",
       "      <td>student_1</td>\n",
       "      <td>learning_and_thinking_skills</td>\n",
       "      <td>8</td>\n",
       "      <td>The student received the grade 8 for the compe...</td>\n",
       "      <td>['academic_skills: The student has demonstrate...</td>\n",
       "      <td>8.0</td>\n",
       "    </tr>\n",
       "    <tr>\n",
       "      <th>3</th>\n",
       "      <td>student_1</td>\n",
       "      <td>communication_skills</td>\n",
       "      <td>8</td>\n",
       "      <td>The student communicates clearly and effective...</td>\n",
       "      <td>['es and time.\\ncommunication_skills: The stud...</td>\n",
       "      <td>8.0</td>\n",
       "    </tr>\n",
       "    <tr>\n",
       "      <th>4</th>\n",
       "      <td>student_1</td>\n",
       "      <td>guidance_skills</td>\n",
       "      <td>8</td>\n",
       "      <td>The student received the grade 8 for the compe...</td>\n",
       "      <td>[', perseverance, and academic self-esteem.', ...</td>\n",
       "      <td>8.0</td>\n",
       "    </tr>\n",
       "    <tr>\n",
       "      <th>5</th>\n",
       "      <td>student_2</td>\n",
       "      <td>academic_skills</td>\n",
       "      <td>6</td>\n",
       "      <td>The student received the grade 6 for the compe...</td>\n",
       "      <td>['academic_skills: The student shows interest ...</td>\n",
       "      <td>6.8</td>\n",
       "    </tr>\n",
       "    <tr>\n",
       "      <th>6</th>\n",
       "      <td>student_2</td>\n",
       "      <td>socioemotional_skills</td>\n",
       "      <td>6</td>\n",
       "      <td>He shows interest in learning, although his mo...</td>\n",
       "      <td>['skills. He shows interest in learning, altho...</td>\n",
       "      <td>6.8</td>\n",
       "    </tr>\n",
       "    <tr>\n",
       "      <th>7</th>\n",
       "      <td>student_2</td>\n",
       "      <td>learning_and_thinking_skills</td>\n",
       "      <td>8</td>\n",
       "      <td>The student received the grade 8 for the compe...</td>\n",
       "      <td>['nagement skills.\\nlearning_and_thinking_skil...</td>\n",
       "      <td>6.8</td>\n",
       "    </tr>\n",
       "    <tr>\n",
       "      <th>8</th>\n",
       "      <td>student_2</td>\n",
       "      <td>communication_skills</td>\n",
       "      <td>8</td>\n",
       "      <td>The student received the grade 8 for the compe...</td>\n",
       "      <td>['lan and organize activities more efficiently...</td>\n",
       "      <td>6.8</td>\n",
       "    </tr>\n",
       "    <tr>\n",
       "      <th>9</th>\n",
       "      <td>student_2</td>\n",
       "      <td>guidance_skills</td>\n",
       "      <td>6</td>\n",
       "      <td>The student is adapting to the school environm...</td>\n",
       "      <td>['skills. He shows interest in learning, altho...</td>\n",
       "      <td>6.8</td>\n",
       "    </tr>\n",
       "    <tr>\n",
       "      <th>10</th>\n",
       "      <td>student_3</td>\n",
       "      <td>academic_skills</td>\n",
       "      <td>4</td>\n",
       "      <td>The student received the grade 4 for the compe...</td>\n",
       "      <td>['academic_skills: The student shows frequent ...</td>\n",
       "      <td>5.4</td>\n",
       "    </tr>\n",
       "    <tr>\n",
       "      <th>11</th>\n",
       "      <td>student_3</td>\n",
       "      <td>socioemotional_skills</td>\n",
       "      <td>6</td>\n",
       "      <td>The student received the grade 6 for the compe...</td>\n",
       "      <td>['al_skills: The student has notable difficult...</td>\n",
       "      <td>5.4</td>\n",
       "    </tr>\n",
       "    <tr>\n",
       "      <th>12</th>\n",
       "      <td>student_3</td>\n",
       "      <td>learning_and_thinking_skills</td>\n",
       "      <td>4</td>\n",
       "      <td>The student received the grade 4 for the compe...</td>\n",
       "      <td>['earning_and_thinking_skills: The student dem...</td>\n",
       "      <td>5.4</td>\n",
       "    </tr>\n",
       "    <tr>\n",
       "      <th>13</th>\n",
       "      <td>student_3</td>\n",
       "      <td>communication_skills</td>\n",
       "      <td>8</td>\n",
       "      <td>The student received the grade 8 for the compe...</td>\n",
       "      <td>['work, often leaving tasks incomplete or poor...</td>\n",
       "      <td>5.4</td>\n",
       "    </tr>\n",
       "    <tr>\n",
       "      <th>14</th>\n",
       "      <td>student_3</td>\n",
       "      <td>guidance_skills</td>\n",
       "      <td>6</td>\n",
       "      <td>The student received the grade 6 for the compe...</td>\n",
       "      <td>['student finds it difficult to adapt to the s...</td>\n",
       "      <td>5.4</td>\n",
       "    </tr>\n",
       "    <tr>\n",
       "      <th>15</th>\n",
       "      <td>student_4</td>\n",
       "      <td>academic_skills</td>\n",
       "      <td>6</td>\n",
       "      <td>The student received the grade 6 for the compe...</td>\n",
       "      <td>['academic_skills: The student shows an adequa...</td>\n",
       "      <td>6.4</td>\n",
       "    </tr>\n",
       "    <tr>\n",
       "      <th>16</th>\n",
       "      <td>student_4</td>\n",
       "      <td>socioemotional_skills</td>\n",
       "      <td>6</td>\n",
       "      <td>The student received the grade 6 for the compe...</td>\n",
       "      <td>['student demonstrates some autonomy and respo...</td>\n",
       "      <td>6.4</td>\n",
       "    </tr>\n",
       "    <tr>\n",
       "      <th>17</th>\n",
       "      <td>student_4</td>\n",
       "      <td>learning_and_thinking_skills</td>\n",
       "      <td>8</td>\n",
       "      <td>The student received the grade 8 for the compe...</td>\n",
       "      <td>['academic_skills: The student shows an adequa...</td>\n",
       "      <td>6.4</td>\n",
       "    </tr>\n",
       "    <tr>\n",
       "      <th>18</th>\n",
       "      <td>student_4</td>\n",
       "      <td>communication_skills</td>\n",
       "      <td>6</td>\n",
       "      <td>The student received the grade 6 for the compe...</td>\n",
       "      <td>['n of tasks require frequent teacher support ...</td>\n",
       "      <td>6.4</td>\n",
       "    </tr>\n",
       "    <tr>\n",
       "      <th>19</th>\n",
       "      <td>student_4</td>\n",
       "      <td>guidance_skills</td>\n",
       "      <td>6</td>\n",
       "      <td>The student received the grade 6 for the compe...</td>\n",
       "      <td>['tely well to the school environment but some...</td>\n",
       "      <td>6.4</td>\n",
       "    </tr>\n",
       "  </tbody>\n",
       "</table>\n",
       "</div>"
      ],
      "text/plain": [
       "   student_id                         skill  grade  \\\n",
       "0   student_1               academic_skills      8   \n",
       "1   student_1         socioemotional_skills      8   \n",
       "2   student_1  learning_and_thinking_skills      8   \n",
       "3   student_1          communication_skills      8   \n",
       "4   student_1               guidance_skills      8   \n",
       "5   student_2               academic_skills      6   \n",
       "6   student_2         socioemotional_skills      6   \n",
       "7   student_2  learning_and_thinking_skills      8   \n",
       "8   student_2          communication_skills      8   \n",
       "9   student_2               guidance_skills      6   \n",
       "10  student_3               academic_skills      4   \n",
       "11  student_3         socioemotional_skills      6   \n",
       "12  student_3  learning_and_thinking_skills      4   \n",
       "13  student_3          communication_skills      8   \n",
       "14  student_3               guidance_skills      6   \n",
       "15  student_4               academic_skills      6   \n",
       "16  student_4         socioemotional_skills      6   \n",
       "17  student_4  learning_and_thinking_skills      8   \n",
       "18  student_4          communication_skills      6   \n",
       "19  student_4               guidance_skills      6   \n",
       "\n",
       "                                          explanation  \\\n",
       "0   The student received the grade 8 for the compe...   \n",
       "1   The student received the grade 8 for the compe...   \n",
       "2   The student received the grade 8 for the compe...   \n",
       "3   The student communicates clearly and effective...   \n",
       "4   The student received the grade 8 for the compe...   \n",
       "5   The student received the grade 6 for the compe...   \n",
       "6   He shows interest in learning, although his mo...   \n",
       "7   The student received the grade 8 for the compe...   \n",
       "8   The student received the grade 8 for the compe...   \n",
       "9   The student is adapting to the school environm...   \n",
       "10  The student received the grade 4 for the compe...   \n",
       "11  The student received the grade 6 for the compe...   \n",
       "12  The student received the grade 4 for the compe...   \n",
       "13  The student received the grade 8 for the compe...   \n",
       "14  The student received the grade 6 for the compe...   \n",
       "15  The student received the grade 6 for the compe...   \n",
       "16  The student received the grade 6 for the compe...   \n",
       "17  The student received the grade 8 for the compe...   \n",
       "18  The student received the grade 6 for the compe...   \n",
       "19  The student received the grade 6 for the compe...   \n",
       "\n",
       "                                      relevant_chunks  global_grade  \n",
       "0   ['academic_skills: The student has demonstrate...           8.0  \n",
       "1   ['skills: The student shows great autonomy in ...           8.0  \n",
       "2   ['academic_skills: The student has demonstrate...           8.0  \n",
       "3   ['es and time.\\ncommunication_skills: The stud...           8.0  \n",
       "4   [', perseverance, and academic self-esteem.', ...           8.0  \n",
       "5   ['academic_skills: The student shows interest ...           6.8  \n",
       "6   ['skills. He shows interest in learning, altho...           6.8  \n",
       "7   ['nagement skills.\\nlearning_and_thinking_skil...           6.8  \n",
       "8   ['lan and organize activities more efficiently...           6.8  \n",
       "9   ['skills. He shows interest in learning, altho...           6.8  \n",
       "10  ['academic_skills: The student shows frequent ...           5.4  \n",
       "11  ['al_skills: The student has notable difficult...           5.4  \n",
       "12  ['earning_and_thinking_skills: The student dem...           5.4  \n",
       "13  ['work, often leaving tasks incomplete or poor...           5.4  \n",
       "14  ['student finds it difficult to adapt to the s...           5.4  \n",
       "15  ['academic_skills: The student shows an adequa...           6.4  \n",
       "16  ['student demonstrates some autonomy and respo...           6.4  \n",
       "17  ['academic_skills: The student shows an adequa...           6.4  \n",
       "18  ['n of tasks require frequent teacher support ...           6.4  \n",
       "19  ['tely well to the school environment but some...           6.4  "
      ]
     },
     "execution_count": 5,
     "metadata": {},
     "output_type": "execute_result"
    }
   ],
   "source": [
    "student_grade_predictions"
   ]
  },
  {
   "cell_type": "code",
   "execution_count": 6,
   "id": "5e72d378",
   "metadata": {},
   "outputs": [
    {
     "data": {
      "text/html": [
       "<div>\n",
       "<style scoped>\n",
       "    .dataframe tbody tr th:only-of-type {\n",
       "        vertical-align: middle;\n",
       "    }\n",
       "\n",
       "    .dataframe tbody tr th {\n",
       "        vertical-align: top;\n",
       "    }\n",
       "\n",
       "    .dataframe thead th {\n",
       "        text-align: right;\n",
       "    }\n",
       "</style>\n",
       "<table border=\"1\" class=\"dataframe\">\n",
       "  <thead>\n",
       "    <tr style=\"text-align: right;\">\n",
       "      <th></th>\n",
       "      <th>student_id</th>\n",
       "      <th>skill</th>\n",
       "      <th>report</th>\n",
       "      <th>grade_gt</th>\n",
       "      <th>weight</th>\n",
       "      <th>global_grade_gt</th>\n",
       "      <th>grade_pred</th>\n",
       "      <th>explanation</th>\n",
       "      <th>relevant_chunks</th>\n",
       "      <th>global_grade_pred</th>\n",
       "    </tr>\n",
       "  </thead>\n",
       "  <tbody>\n",
       "    <tr>\n",
       "      <th>0</th>\n",
       "      <td>student_1</td>\n",
       "      <td>academic_skills</td>\n",
       "      <td>academic_skills: The student has demonstrate...</td>\n",
       "      <td>10</td>\n",
       "      <td>0.3</td>\n",
       "      <td>10.0</td>\n",
       "      <td>8</td>\n",
       "      <td>The student received the grade 8 for the compe...</td>\n",
       "      <td>['academic_skills: The student has demonstrate...</td>\n",
       "      <td>8.0</td>\n",
       "    </tr>\n",
       "    <tr>\n",
       "      <th>1</th>\n",
       "      <td>student_1</td>\n",
       "      <td>socioemotional_skills</td>\n",
       "      <td>academic_skills: The student has demonstrate...</td>\n",
       "      <td>10</td>\n",
       "      <td>0.1</td>\n",
       "      <td>10.0</td>\n",
       "      <td>8</td>\n",
       "      <td>The student received the grade 8 for the compe...</td>\n",
       "      <td>['skills: The student shows great autonomy in ...</td>\n",
       "      <td>8.0</td>\n",
       "    </tr>\n",
       "    <tr>\n",
       "      <th>2</th>\n",
       "      <td>student_1</td>\n",
       "      <td>learning_and_thinking_skills</td>\n",
       "      <td>academic_skills: The student has demonstrate...</td>\n",
       "      <td>10</td>\n",
       "      <td>0.2</td>\n",
       "      <td>10.0</td>\n",
       "      <td>8</td>\n",
       "      <td>The student received the grade 8 for the compe...</td>\n",
       "      <td>['academic_skills: The student has demonstrate...</td>\n",
       "      <td>8.0</td>\n",
       "    </tr>\n",
       "    <tr>\n",
       "      <th>3</th>\n",
       "      <td>student_1</td>\n",
       "      <td>communication_skills</td>\n",
       "      <td>academic_skills: The student has demonstrate...</td>\n",
       "      <td>10</td>\n",
       "      <td>0.2</td>\n",
       "      <td>10.0</td>\n",
       "      <td>8</td>\n",
       "      <td>The student communicates clearly and effective...</td>\n",
       "      <td>['es and time.\\ncommunication_skills: The stud...</td>\n",
       "      <td>8.0</td>\n",
       "    </tr>\n",
       "    <tr>\n",
       "      <th>4</th>\n",
       "      <td>student_1</td>\n",
       "      <td>guidance_skills</td>\n",
       "      <td>academic_skills: The student has demonstrate...</td>\n",
       "      <td>10</td>\n",
       "      <td>0.2</td>\n",
       "      <td>10.0</td>\n",
       "      <td>8</td>\n",
       "      <td>The student received the grade 8 for the compe...</td>\n",
       "      <td>[', perseverance, and academic self-esteem.', ...</td>\n",
       "      <td>8.0</td>\n",
       "    </tr>\n",
       "    <tr>\n",
       "      <th>5</th>\n",
       "      <td>student_2</td>\n",
       "      <td>academic_skills</td>\n",
       "      <td>academic_skills: The student shows interest ...</td>\n",
       "      <td>6</td>\n",
       "      <td>0.3</td>\n",
       "      <td>6.2</td>\n",
       "      <td>6</td>\n",
       "      <td>The student received the grade 6 for the compe...</td>\n",
       "      <td>['academic_skills: The student shows interest ...</td>\n",
       "      <td>6.8</td>\n",
       "    </tr>\n",
       "    <tr>\n",
       "      <th>6</th>\n",
       "      <td>student_2</td>\n",
       "      <td>socioemotional_skills</td>\n",
       "      <td>academic_skills: The student shows interest ...</td>\n",
       "      <td>8</td>\n",
       "      <td>0.1</td>\n",
       "      <td>6.2</td>\n",
       "      <td>6</td>\n",
       "      <td>He shows interest in learning, although his mo...</td>\n",
       "      <td>['skills. He shows interest in learning, altho...</td>\n",
       "      <td>6.8</td>\n",
       "    </tr>\n",
       "    <tr>\n",
       "      <th>7</th>\n",
       "      <td>student_2</td>\n",
       "      <td>learning_and_thinking_skills</td>\n",
       "      <td>academic_skills: The student shows interest ...</td>\n",
       "      <td>6</td>\n",
       "      <td>0.2</td>\n",
       "      <td>6.2</td>\n",
       "      <td>8</td>\n",
       "      <td>The student received the grade 8 for the compe...</td>\n",
       "      <td>['nagement skills.\\nlearning_and_thinking_skil...</td>\n",
       "      <td>6.8</td>\n",
       "    </tr>\n",
       "    <tr>\n",
       "      <th>8</th>\n",
       "      <td>student_2</td>\n",
       "      <td>communication_skills</td>\n",
       "      <td>academic_skills: The student shows interest ...</td>\n",
       "      <td>6</td>\n",
       "      <td>0.2</td>\n",
       "      <td>6.2</td>\n",
       "      <td>8</td>\n",
       "      <td>The student received the grade 8 for the compe...</td>\n",
       "      <td>['lan and organize activities more efficiently...</td>\n",
       "      <td>6.8</td>\n",
       "    </tr>\n",
       "    <tr>\n",
       "      <th>9</th>\n",
       "      <td>student_2</td>\n",
       "      <td>guidance_skills</td>\n",
       "      <td>academic_skills: The student shows interest ...</td>\n",
       "      <td>6</td>\n",
       "      <td>0.2</td>\n",
       "      <td>6.2</td>\n",
       "      <td>6</td>\n",
       "      <td>The student is adapting to the school environm...</td>\n",
       "      <td>['skills. He shows interest in learning, altho...</td>\n",
       "      <td>6.8</td>\n",
       "    </tr>\n",
       "    <tr>\n",
       "      <th>10</th>\n",
       "      <td>student_3</td>\n",
       "      <td>academic_skills</td>\n",
       "      <td>academic_skills: The student shows frequent ...</td>\n",
       "      <td>4</td>\n",
       "      <td>0.3</td>\n",
       "      <td>4.0</td>\n",
       "      <td>4</td>\n",
       "      <td>The student received the grade 4 for the compe...</td>\n",
       "      <td>['academic_skills: The student shows frequent ...</td>\n",
       "      <td>5.4</td>\n",
       "    </tr>\n",
       "    <tr>\n",
       "      <th>11</th>\n",
       "      <td>student_3</td>\n",
       "      <td>socioemotional_skills</td>\n",
       "      <td>academic_skills: The student shows frequent ...</td>\n",
       "      <td>4</td>\n",
       "      <td>0.1</td>\n",
       "      <td>4.0</td>\n",
       "      <td>6</td>\n",
       "      <td>The student received the grade 6 for the compe...</td>\n",
       "      <td>['al_skills: The student has notable difficult...</td>\n",
       "      <td>5.4</td>\n",
       "    </tr>\n",
       "    <tr>\n",
       "      <th>12</th>\n",
       "      <td>student_3</td>\n",
       "      <td>learning_and_thinking_skills</td>\n",
       "      <td>academic_skills: The student shows frequent ...</td>\n",
       "      <td>4</td>\n",
       "      <td>0.2</td>\n",
       "      <td>4.0</td>\n",
       "      <td>4</td>\n",
       "      <td>The student received the grade 4 for the compe...</td>\n",
       "      <td>['earning_and_thinking_skills: The student dem...</td>\n",
       "      <td>5.4</td>\n",
       "    </tr>\n",
       "    <tr>\n",
       "      <th>13</th>\n",
       "      <td>student_3</td>\n",
       "      <td>communication_skills</td>\n",
       "      <td>academic_skills: The student shows frequent ...</td>\n",
       "      <td>6</td>\n",
       "      <td>0.2</td>\n",
       "      <td>4.0</td>\n",
       "      <td>8</td>\n",
       "      <td>The student received the grade 8 for the compe...</td>\n",
       "      <td>['work, often leaving tasks incomplete or poor...</td>\n",
       "      <td>5.4</td>\n",
       "    </tr>\n",
       "    <tr>\n",
       "      <th>14</th>\n",
       "      <td>student_3</td>\n",
       "      <td>guidance_skills</td>\n",
       "      <td>academic_skills: The student shows frequent ...</td>\n",
       "      <td>2</td>\n",
       "      <td>0.2</td>\n",
       "      <td>4.0</td>\n",
       "      <td>6</td>\n",
       "      <td>The student received the grade 6 for the compe...</td>\n",
       "      <td>['student finds it difficult to adapt to the s...</td>\n",
       "      <td>5.4</td>\n",
       "    </tr>\n",
       "    <tr>\n",
       "      <th>15</th>\n",
       "      <td>student_4</td>\n",
       "      <td>academic_skills</td>\n",
       "      <td>academic_skills: The student shows an adequa...</td>\n",
       "      <td>6</td>\n",
       "      <td>0.3</td>\n",
       "      <td>5.2</td>\n",
       "      <td>6</td>\n",
       "      <td>The student received the grade 6 for the compe...</td>\n",
       "      <td>['academic_skills: The student shows an adequa...</td>\n",
       "      <td>6.4</td>\n",
       "    </tr>\n",
       "    <tr>\n",
       "      <th>16</th>\n",
       "      <td>student_4</td>\n",
       "      <td>socioemotional_skills</td>\n",
       "      <td>academic_skills: The student shows an adequa...</td>\n",
       "      <td>6</td>\n",
       "      <td>0.1</td>\n",
       "      <td>5.2</td>\n",
       "      <td>6</td>\n",
       "      <td>The student received the grade 6 for the compe...</td>\n",
       "      <td>['student demonstrates some autonomy and respo...</td>\n",
       "      <td>6.4</td>\n",
       "    </tr>\n",
       "    <tr>\n",
       "      <th>17</th>\n",
       "      <td>student_4</td>\n",
       "      <td>learning_and_thinking_skills</td>\n",
       "      <td>academic_skills: The student shows an adequa...</td>\n",
       "      <td>4</td>\n",
       "      <td>0.2</td>\n",
       "      <td>5.2</td>\n",
       "      <td>8</td>\n",
       "      <td>The student received the grade 8 for the compe...</td>\n",
       "      <td>['academic_skills: The student shows an adequa...</td>\n",
       "      <td>6.4</td>\n",
       "    </tr>\n",
       "    <tr>\n",
       "      <th>18</th>\n",
       "      <td>student_4</td>\n",
       "      <td>communication_skills</td>\n",
       "      <td>academic_skills: The student shows an adequa...</td>\n",
       "      <td>4</td>\n",
       "      <td>0.2</td>\n",
       "      <td>5.2</td>\n",
       "      <td>6</td>\n",
       "      <td>The student received the grade 6 for the compe...</td>\n",
       "      <td>['n of tasks require frequent teacher support ...</td>\n",
       "      <td>6.4</td>\n",
       "    </tr>\n",
       "    <tr>\n",
       "      <th>19</th>\n",
       "      <td>student_4</td>\n",
       "      <td>guidance_skills</td>\n",
       "      <td>academic_skills: The student shows an adequa...</td>\n",
       "      <td>6</td>\n",
       "      <td>0.2</td>\n",
       "      <td>5.2</td>\n",
       "      <td>6</td>\n",
       "      <td>The student received the grade 6 for the compe...</td>\n",
       "      <td>['tely well to the school environment but some...</td>\n",
       "      <td>6.4</td>\n",
       "    </tr>\n",
       "  </tbody>\n",
       "</table>\n",
       "</div>"
      ],
      "text/plain": [
       "   student_id                         skill  \\\n",
       "0   student_1               academic_skills   \n",
       "1   student_1         socioemotional_skills   \n",
       "2   student_1  learning_and_thinking_skills   \n",
       "3   student_1          communication_skills   \n",
       "4   student_1               guidance_skills   \n",
       "5   student_2               academic_skills   \n",
       "6   student_2         socioemotional_skills   \n",
       "7   student_2  learning_and_thinking_skills   \n",
       "8   student_2          communication_skills   \n",
       "9   student_2               guidance_skills   \n",
       "10  student_3               academic_skills   \n",
       "11  student_3         socioemotional_skills   \n",
       "12  student_3  learning_and_thinking_skills   \n",
       "13  student_3          communication_skills   \n",
       "14  student_3               guidance_skills   \n",
       "15  student_4               academic_skills   \n",
       "16  student_4         socioemotional_skills   \n",
       "17  student_4  learning_and_thinking_skills   \n",
       "18  student_4          communication_skills   \n",
       "19  student_4               guidance_skills   \n",
       "\n",
       "                                               report  grade_gt  weight  \\\n",
       "0     academic_skills: The student has demonstrate...        10     0.3   \n",
       "1     academic_skills: The student has demonstrate...        10     0.1   \n",
       "2     academic_skills: The student has demonstrate...        10     0.2   \n",
       "3     academic_skills: The student has demonstrate...        10     0.2   \n",
       "4     academic_skills: The student has demonstrate...        10     0.2   \n",
       "5     academic_skills: The student shows interest ...         6     0.3   \n",
       "6     academic_skills: The student shows interest ...         8     0.1   \n",
       "7     academic_skills: The student shows interest ...         6     0.2   \n",
       "8     academic_skills: The student shows interest ...         6     0.2   \n",
       "9     academic_skills: The student shows interest ...         6     0.2   \n",
       "10    academic_skills: The student shows frequent ...         4     0.3   \n",
       "11    academic_skills: The student shows frequent ...         4     0.1   \n",
       "12    academic_skills: The student shows frequent ...         4     0.2   \n",
       "13    academic_skills: The student shows frequent ...         6     0.2   \n",
       "14    academic_skills: The student shows frequent ...         2     0.2   \n",
       "15    academic_skills: The student shows an adequa...         6     0.3   \n",
       "16    academic_skills: The student shows an adequa...         6     0.1   \n",
       "17    academic_skills: The student shows an adequa...         4     0.2   \n",
       "18    academic_skills: The student shows an adequa...         4     0.2   \n",
       "19    academic_skills: The student shows an adequa...         6     0.2   \n",
       "\n",
       "    global_grade_gt  grade_pred  \\\n",
       "0              10.0           8   \n",
       "1              10.0           8   \n",
       "2              10.0           8   \n",
       "3              10.0           8   \n",
       "4              10.0           8   \n",
       "5               6.2           6   \n",
       "6               6.2           6   \n",
       "7               6.2           8   \n",
       "8               6.2           8   \n",
       "9               6.2           6   \n",
       "10              4.0           4   \n",
       "11              4.0           6   \n",
       "12              4.0           4   \n",
       "13              4.0           8   \n",
       "14              4.0           6   \n",
       "15              5.2           6   \n",
       "16              5.2           6   \n",
       "17              5.2           8   \n",
       "18              5.2           6   \n",
       "19              5.2           6   \n",
       "\n",
       "                                          explanation  \\\n",
       "0   The student received the grade 8 for the compe...   \n",
       "1   The student received the grade 8 for the compe...   \n",
       "2   The student received the grade 8 for the compe...   \n",
       "3   The student communicates clearly and effective...   \n",
       "4   The student received the grade 8 for the compe...   \n",
       "5   The student received the grade 6 for the compe...   \n",
       "6   He shows interest in learning, although his mo...   \n",
       "7   The student received the grade 8 for the compe...   \n",
       "8   The student received the grade 8 for the compe...   \n",
       "9   The student is adapting to the school environm...   \n",
       "10  The student received the grade 4 for the compe...   \n",
       "11  The student received the grade 6 for the compe...   \n",
       "12  The student received the grade 4 for the compe...   \n",
       "13  The student received the grade 8 for the compe...   \n",
       "14  The student received the grade 6 for the compe...   \n",
       "15  The student received the grade 6 for the compe...   \n",
       "16  The student received the grade 6 for the compe...   \n",
       "17  The student received the grade 8 for the compe...   \n",
       "18  The student received the grade 6 for the compe...   \n",
       "19  The student received the grade 6 for the compe...   \n",
       "\n",
       "                                      relevant_chunks  global_grade_pred  \n",
       "0   ['academic_skills: The student has demonstrate...                8.0  \n",
       "1   ['skills: The student shows great autonomy in ...                8.0  \n",
       "2   ['academic_skills: The student has demonstrate...                8.0  \n",
       "3   ['es and time.\\ncommunication_skills: The stud...                8.0  \n",
       "4   [', perseverance, and academic self-esteem.', ...                8.0  \n",
       "5   ['academic_skills: The student shows interest ...                6.8  \n",
       "6   ['skills. He shows interest in learning, altho...                6.8  \n",
       "7   ['nagement skills.\\nlearning_and_thinking_skil...                6.8  \n",
       "8   ['lan and organize activities more efficiently...                6.8  \n",
       "9   ['skills. He shows interest in learning, altho...                6.8  \n",
       "10  ['academic_skills: The student shows frequent ...                5.4  \n",
       "11  ['al_skills: The student has notable difficult...                5.4  \n",
       "12  ['earning_and_thinking_skills: The student dem...                5.4  \n",
       "13  ['work, often leaving tasks incomplete or poor...                5.4  \n",
       "14  ['student finds it difficult to adapt to the s...                5.4  \n",
       "15  ['academic_skills: The student shows an adequa...                6.4  \n",
       "16  ['student demonstrates some autonomy and respo...                6.4  \n",
       "17  ['academic_skills: The student shows an adequa...                6.4  \n",
       "18  ['n of tasks require frequent teacher support ...                6.4  \n",
       "19  ['tely well to the school environment but some...                6.4  "
      ]
     },
     "execution_count": 6,
     "metadata": {},
     "output_type": "execute_result"
    }
   ],
   "source": [
    "student_grades_gt_preds = student_grades_gt.merge(student_grade_predictions, on=[\"student_id\", \"skill\"], suffixes=('_gt', '_pred'))\n",
    "student_grades_gt_preds"
   ]
  },
  {
   "cell_type": "code",
   "execution_count": 7,
   "id": "0c13b2e9",
   "metadata": {},
   "outputs": [],
   "source": [
    "student_grades_gt_preds[\"Error skill\"] = student_grades_gt_preds[\"grade_gt\"] - student_grades_gt_preds[\"grade_pred\"]\n",
    "student_grades_gt_preds[\"Error global grade\"] = student_grades_gt_preds[\"global_grade_gt\"] - student_grades_gt_preds[\"global_grade_pred\"]"
   ]
  },
  {
   "cell_type": "code",
   "execution_count": 8,
   "id": "35b48d71",
   "metadata": {},
   "outputs": [
    {
     "data": {
      "text/html": [
       "<div>\n",
       "<style scoped>\n",
       "    .dataframe tbody tr th:only-of-type {\n",
       "        vertical-align: middle;\n",
       "    }\n",
       "\n",
       "    .dataframe tbody tr th {\n",
       "        vertical-align: top;\n",
       "    }\n",
       "\n",
       "    .dataframe thead th {\n",
       "        text-align: right;\n",
       "    }\n",
       "</style>\n",
       "<table border=\"1\" class=\"dataframe\">\n",
       "  <thead>\n",
       "    <tr style=\"text-align: right;\">\n",
       "      <th></th>\n",
       "      <th>student_id</th>\n",
       "      <th>skill</th>\n",
       "      <th>report</th>\n",
       "      <th>grade_gt</th>\n",
       "      <th>weight</th>\n",
       "      <th>global_grade_gt</th>\n",
       "      <th>grade_pred</th>\n",
       "      <th>explanation</th>\n",
       "      <th>relevant_chunks</th>\n",
       "      <th>global_grade_pred</th>\n",
       "      <th>Error skill</th>\n",
       "      <th>Error global grade</th>\n",
       "    </tr>\n",
       "  </thead>\n",
       "  <tbody>\n",
       "    <tr>\n",
       "      <th>0</th>\n",
       "      <td>student_1</td>\n",
       "      <td>academic_skills</td>\n",
       "      <td>academic_skills: The student has demonstrate...</td>\n",
       "      <td>10</td>\n",
       "      <td>0.3</td>\n",
       "      <td>10.0</td>\n",
       "      <td>8</td>\n",
       "      <td>The student received the grade 8 for the compe...</td>\n",
       "      <td>['academic_skills: The student has demonstrate...</td>\n",
       "      <td>8.0</td>\n",
       "      <td>2</td>\n",
       "      <td>2.0</td>\n",
       "    </tr>\n",
       "    <tr>\n",
       "      <th>1</th>\n",
       "      <td>student_1</td>\n",
       "      <td>socioemotional_skills</td>\n",
       "      <td>academic_skills: The student has demonstrate...</td>\n",
       "      <td>10</td>\n",
       "      <td>0.1</td>\n",
       "      <td>10.0</td>\n",
       "      <td>8</td>\n",
       "      <td>The student received the grade 8 for the compe...</td>\n",
       "      <td>['skills: The student shows great autonomy in ...</td>\n",
       "      <td>8.0</td>\n",
       "      <td>2</td>\n",
       "      <td>2.0</td>\n",
       "    </tr>\n",
       "    <tr>\n",
       "      <th>2</th>\n",
       "      <td>student_1</td>\n",
       "      <td>learning_and_thinking_skills</td>\n",
       "      <td>academic_skills: The student has demonstrate...</td>\n",
       "      <td>10</td>\n",
       "      <td>0.2</td>\n",
       "      <td>10.0</td>\n",
       "      <td>8</td>\n",
       "      <td>The student received the grade 8 for the compe...</td>\n",
       "      <td>['academic_skills: The student has demonstrate...</td>\n",
       "      <td>8.0</td>\n",
       "      <td>2</td>\n",
       "      <td>2.0</td>\n",
       "    </tr>\n",
       "    <tr>\n",
       "      <th>3</th>\n",
       "      <td>student_1</td>\n",
       "      <td>communication_skills</td>\n",
       "      <td>academic_skills: The student has demonstrate...</td>\n",
       "      <td>10</td>\n",
       "      <td>0.2</td>\n",
       "      <td>10.0</td>\n",
       "      <td>8</td>\n",
       "      <td>The student communicates clearly and effective...</td>\n",
       "      <td>['es and time.\\ncommunication_skills: The stud...</td>\n",
       "      <td>8.0</td>\n",
       "      <td>2</td>\n",
       "      <td>2.0</td>\n",
       "    </tr>\n",
       "    <tr>\n",
       "      <th>4</th>\n",
       "      <td>student_1</td>\n",
       "      <td>guidance_skills</td>\n",
       "      <td>academic_skills: The student has demonstrate...</td>\n",
       "      <td>10</td>\n",
       "      <td>0.2</td>\n",
       "      <td>10.0</td>\n",
       "      <td>8</td>\n",
       "      <td>The student received the grade 8 for the compe...</td>\n",
       "      <td>[', perseverance, and academic self-esteem.', ...</td>\n",
       "      <td>8.0</td>\n",
       "      <td>2</td>\n",
       "      <td>2.0</td>\n",
       "    </tr>\n",
       "    <tr>\n",
       "      <th>5</th>\n",
       "      <td>student_2</td>\n",
       "      <td>academic_skills</td>\n",
       "      <td>academic_skills: The student shows interest ...</td>\n",
       "      <td>6</td>\n",
       "      <td>0.3</td>\n",
       "      <td>6.2</td>\n",
       "      <td>6</td>\n",
       "      <td>The student received the grade 6 for the compe...</td>\n",
       "      <td>['academic_skills: The student shows interest ...</td>\n",
       "      <td>6.8</td>\n",
       "      <td>0</td>\n",
       "      <td>-0.6</td>\n",
       "    </tr>\n",
       "    <tr>\n",
       "      <th>6</th>\n",
       "      <td>student_2</td>\n",
       "      <td>socioemotional_skills</td>\n",
       "      <td>academic_skills: The student shows interest ...</td>\n",
       "      <td>8</td>\n",
       "      <td>0.1</td>\n",
       "      <td>6.2</td>\n",
       "      <td>6</td>\n",
       "      <td>He shows interest in learning, although his mo...</td>\n",
       "      <td>['skills. He shows interest in learning, altho...</td>\n",
       "      <td>6.8</td>\n",
       "      <td>2</td>\n",
       "      <td>-0.6</td>\n",
       "    </tr>\n",
       "    <tr>\n",
       "      <th>7</th>\n",
       "      <td>student_2</td>\n",
       "      <td>learning_and_thinking_skills</td>\n",
       "      <td>academic_skills: The student shows interest ...</td>\n",
       "      <td>6</td>\n",
       "      <td>0.2</td>\n",
       "      <td>6.2</td>\n",
       "      <td>8</td>\n",
       "      <td>The student received the grade 8 for the compe...</td>\n",
       "      <td>['nagement skills.\\nlearning_and_thinking_skil...</td>\n",
       "      <td>6.8</td>\n",
       "      <td>-2</td>\n",
       "      <td>-0.6</td>\n",
       "    </tr>\n",
       "    <tr>\n",
       "      <th>8</th>\n",
       "      <td>student_2</td>\n",
       "      <td>communication_skills</td>\n",
       "      <td>academic_skills: The student shows interest ...</td>\n",
       "      <td>6</td>\n",
       "      <td>0.2</td>\n",
       "      <td>6.2</td>\n",
       "      <td>8</td>\n",
       "      <td>The student received the grade 8 for the compe...</td>\n",
       "      <td>['lan and organize activities more efficiently...</td>\n",
       "      <td>6.8</td>\n",
       "      <td>-2</td>\n",
       "      <td>-0.6</td>\n",
       "    </tr>\n",
       "    <tr>\n",
       "      <th>9</th>\n",
       "      <td>student_2</td>\n",
       "      <td>guidance_skills</td>\n",
       "      <td>academic_skills: The student shows interest ...</td>\n",
       "      <td>6</td>\n",
       "      <td>0.2</td>\n",
       "      <td>6.2</td>\n",
       "      <td>6</td>\n",
       "      <td>The student is adapting to the school environm...</td>\n",
       "      <td>['skills. He shows interest in learning, altho...</td>\n",
       "      <td>6.8</td>\n",
       "      <td>0</td>\n",
       "      <td>-0.6</td>\n",
       "    </tr>\n",
       "    <tr>\n",
       "      <th>10</th>\n",
       "      <td>student_3</td>\n",
       "      <td>academic_skills</td>\n",
       "      <td>academic_skills: The student shows frequent ...</td>\n",
       "      <td>4</td>\n",
       "      <td>0.3</td>\n",
       "      <td>4.0</td>\n",
       "      <td>4</td>\n",
       "      <td>The student received the grade 4 for the compe...</td>\n",
       "      <td>['academic_skills: The student shows frequent ...</td>\n",
       "      <td>5.4</td>\n",
       "      <td>0</td>\n",
       "      <td>-1.4</td>\n",
       "    </tr>\n",
       "    <tr>\n",
       "      <th>11</th>\n",
       "      <td>student_3</td>\n",
       "      <td>socioemotional_skills</td>\n",
       "      <td>academic_skills: The student shows frequent ...</td>\n",
       "      <td>4</td>\n",
       "      <td>0.1</td>\n",
       "      <td>4.0</td>\n",
       "      <td>6</td>\n",
       "      <td>The student received the grade 6 for the compe...</td>\n",
       "      <td>['al_skills: The student has notable difficult...</td>\n",
       "      <td>5.4</td>\n",
       "      <td>-2</td>\n",
       "      <td>-1.4</td>\n",
       "    </tr>\n",
       "    <tr>\n",
       "      <th>12</th>\n",
       "      <td>student_3</td>\n",
       "      <td>learning_and_thinking_skills</td>\n",
       "      <td>academic_skills: The student shows frequent ...</td>\n",
       "      <td>4</td>\n",
       "      <td>0.2</td>\n",
       "      <td>4.0</td>\n",
       "      <td>4</td>\n",
       "      <td>The student received the grade 4 for the compe...</td>\n",
       "      <td>['earning_and_thinking_skills: The student dem...</td>\n",
       "      <td>5.4</td>\n",
       "      <td>0</td>\n",
       "      <td>-1.4</td>\n",
       "    </tr>\n",
       "    <tr>\n",
       "      <th>13</th>\n",
       "      <td>student_3</td>\n",
       "      <td>communication_skills</td>\n",
       "      <td>academic_skills: The student shows frequent ...</td>\n",
       "      <td>6</td>\n",
       "      <td>0.2</td>\n",
       "      <td>4.0</td>\n",
       "      <td>8</td>\n",
       "      <td>The student received the grade 8 for the compe...</td>\n",
       "      <td>['work, often leaving tasks incomplete or poor...</td>\n",
       "      <td>5.4</td>\n",
       "      <td>-2</td>\n",
       "      <td>-1.4</td>\n",
       "    </tr>\n",
       "    <tr>\n",
       "      <th>14</th>\n",
       "      <td>student_3</td>\n",
       "      <td>guidance_skills</td>\n",
       "      <td>academic_skills: The student shows frequent ...</td>\n",
       "      <td>2</td>\n",
       "      <td>0.2</td>\n",
       "      <td>4.0</td>\n",
       "      <td>6</td>\n",
       "      <td>The student received the grade 6 for the compe...</td>\n",
       "      <td>['student finds it difficult to adapt to the s...</td>\n",
       "      <td>5.4</td>\n",
       "      <td>-4</td>\n",
       "      <td>-1.4</td>\n",
       "    </tr>\n",
       "    <tr>\n",
       "      <th>15</th>\n",
       "      <td>student_4</td>\n",
       "      <td>academic_skills</td>\n",
       "      <td>academic_skills: The student shows an adequa...</td>\n",
       "      <td>6</td>\n",
       "      <td>0.3</td>\n",
       "      <td>5.2</td>\n",
       "      <td>6</td>\n",
       "      <td>The student received the grade 6 for the compe...</td>\n",
       "      <td>['academic_skills: The student shows an adequa...</td>\n",
       "      <td>6.4</td>\n",
       "      <td>0</td>\n",
       "      <td>-1.2</td>\n",
       "    </tr>\n",
       "    <tr>\n",
       "      <th>16</th>\n",
       "      <td>student_4</td>\n",
       "      <td>socioemotional_skills</td>\n",
       "      <td>academic_skills: The student shows an adequa...</td>\n",
       "      <td>6</td>\n",
       "      <td>0.1</td>\n",
       "      <td>5.2</td>\n",
       "      <td>6</td>\n",
       "      <td>The student received the grade 6 for the compe...</td>\n",
       "      <td>['student demonstrates some autonomy and respo...</td>\n",
       "      <td>6.4</td>\n",
       "      <td>0</td>\n",
       "      <td>-1.2</td>\n",
       "    </tr>\n",
       "    <tr>\n",
       "      <th>17</th>\n",
       "      <td>student_4</td>\n",
       "      <td>learning_and_thinking_skills</td>\n",
       "      <td>academic_skills: The student shows an adequa...</td>\n",
       "      <td>4</td>\n",
       "      <td>0.2</td>\n",
       "      <td>5.2</td>\n",
       "      <td>8</td>\n",
       "      <td>The student received the grade 8 for the compe...</td>\n",
       "      <td>['academic_skills: The student shows an adequa...</td>\n",
       "      <td>6.4</td>\n",
       "      <td>-4</td>\n",
       "      <td>-1.2</td>\n",
       "    </tr>\n",
       "    <tr>\n",
       "      <th>18</th>\n",
       "      <td>student_4</td>\n",
       "      <td>communication_skills</td>\n",
       "      <td>academic_skills: The student shows an adequa...</td>\n",
       "      <td>4</td>\n",
       "      <td>0.2</td>\n",
       "      <td>5.2</td>\n",
       "      <td>6</td>\n",
       "      <td>The student received the grade 6 for the compe...</td>\n",
       "      <td>['n of tasks require frequent teacher support ...</td>\n",
       "      <td>6.4</td>\n",
       "      <td>-2</td>\n",
       "      <td>-1.2</td>\n",
       "    </tr>\n",
       "    <tr>\n",
       "      <th>19</th>\n",
       "      <td>student_4</td>\n",
       "      <td>guidance_skills</td>\n",
       "      <td>academic_skills: The student shows an adequa...</td>\n",
       "      <td>6</td>\n",
       "      <td>0.2</td>\n",
       "      <td>5.2</td>\n",
       "      <td>6</td>\n",
       "      <td>The student received the grade 6 for the compe...</td>\n",
       "      <td>['tely well to the school environment but some...</td>\n",
       "      <td>6.4</td>\n",
       "      <td>0</td>\n",
       "      <td>-1.2</td>\n",
       "    </tr>\n",
       "  </tbody>\n",
       "</table>\n",
       "</div>"
      ],
      "text/plain": [
       "   student_id                         skill  \\\n",
       "0   student_1               academic_skills   \n",
       "1   student_1         socioemotional_skills   \n",
       "2   student_1  learning_and_thinking_skills   \n",
       "3   student_1          communication_skills   \n",
       "4   student_1               guidance_skills   \n",
       "5   student_2               academic_skills   \n",
       "6   student_2         socioemotional_skills   \n",
       "7   student_2  learning_and_thinking_skills   \n",
       "8   student_2          communication_skills   \n",
       "9   student_2               guidance_skills   \n",
       "10  student_3               academic_skills   \n",
       "11  student_3         socioemotional_skills   \n",
       "12  student_3  learning_and_thinking_skills   \n",
       "13  student_3          communication_skills   \n",
       "14  student_3               guidance_skills   \n",
       "15  student_4               academic_skills   \n",
       "16  student_4         socioemotional_skills   \n",
       "17  student_4  learning_and_thinking_skills   \n",
       "18  student_4          communication_skills   \n",
       "19  student_4               guidance_skills   \n",
       "\n",
       "                                               report  grade_gt  weight  \\\n",
       "0     academic_skills: The student has demonstrate...        10     0.3   \n",
       "1     academic_skills: The student has demonstrate...        10     0.1   \n",
       "2     academic_skills: The student has demonstrate...        10     0.2   \n",
       "3     academic_skills: The student has demonstrate...        10     0.2   \n",
       "4     academic_skills: The student has demonstrate...        10     0.2   \n",
       "5     academic_skills: The student shows interest ...         6     0.3   \n",
       "6     academic_skills: The student shows interest ...         8     0.1   \n",
       "7     academic_skills: The student shows interest ...         6     0.2   \n",
       "8     academic_skills: The student shows interest ...         6     0.2   \n",
       "9     academic_skills: The student shows interest ...         6     0.2   \n",
       "10    academic_skills: The student shows frequent ...         4     0.3   \n",
       "11    academic_skills: The student shows frequent ...         4     0.1   \n",
       "12    academic_skills: The student shows frequent ...         4     0.2   \n",
       "13    academic_skills: The student shows frequent ...         6     0.2   \n",
       "14    academic_skills: The student shows frequent ...         2     0.2   \n",
       "15    academic_skills: The student shows an adequa...         6     0.3   \n",
       "16    academic_skills: The student shows an adequa...         6     0.1   \n",
       "17    academic_skills: The student shows an adequa...         4     0.2   \n",
       "18    academic_skills: The student shows an adequa...         4     0.2   \n",
       "19    academic_skills: The student shows an adequa...         6     0.2   \n",
       "\n",
       "    global_grade_gt  grade_pred  \\\n",
       "0              10.0           8   \n",
       "1              10.0           8   \n",
       "2              10.0           8   \n",
       "3              10.0           8   \n",
       "4              10.0           8   \n",
       "5               6.2           6   \n",
       "6               6.2           6   \n",
       "7               6.2           8   \n",
       "8               6.2           8   \n",
       "9               6.2           6   \n",
       "10              4.0           4   \n",
       "11              4.0           6   \n",
       "12              4.0           4   \n",
       "13              4.0           8   \n",
       "14              4.0           6   \n",
       "15              5.2           6   \n",
       "16              5.2           6   \n",
       "17              5.2           8   \n",
       "18              5.2           6   \n",
       "19              5.2           6   \n",
       "\n",
       "                                          explanation  \\\n",
       "0   The student received the grade 8 for the compe...   \n",
       "1   The student received the grade 8 for the compe...   \n",
       "2   The student received the grade 8 for the compe...   \n",
       "3   The student communicates clearly and effective...   \n",
       "4   The student received the grade 8 for the compe...   \n",
       "5   The student received the grade 6 for the compe...   \n",
       "6   He shows interest in learning, although his mo...   \n",
       "7   The student received the grade 8 for the compe...   \n",
       "8   The student received the grade 8 for the compe...   \n",
       "9   The student is adapting to the school environm...   \n",
       "10  The student received the grade 4 for the compe...   \n",
       "11  The student received the grade 6 for the compe...   \n",
       "12  The student received the grade 4 for the compe...   \n",
       "13  The student received the grade 8 for the compe...   \n",
       "14  The student received the grade 6 for the compe...   \n",
       "15  The student received the grade 6 for the compe...   \n",
       "16  The student received the grade 6 for the compe...   \n",
       "17  The student received the grade 8 for the compe...   \n",
       "18  The student received the grade 6 for the compe...   \n",
       "19  The student received the grade 6 for the compe...   \n",
       "\n",
       "                                      relevant_chunks  global_grade_pred  \\\n",
       "0   ['academic_skills: The student has demonstrate...                8.0   \n",
       "1   ['skills: The student shows great autonomy in ...                8.0   \n",
       "2   ['academic_skills: The student has demonstrate...                8.0   \n",
       "3   ['es and time.\\ncommunication_skills: The stud...                8.0   \n",
       "4   [', perseverance, and academic self-esteem.', ...                8.0   \n",
       "5   ['academic_skills: The student shows interest ...                6.8   \n",
       "6   ['skills. He shows interest in learning, altho...                6.8   \n",
       "7   ['nagement skills.\\nlearning_and_thinking_skil...                6.8   \n",
       "8   ['lan and organize activities more efficiently...                6.8   \n",
       "9   ['skills. He shows interest in learning, altho...                6.8   \n",
       "10  ['academic_skills: The student shows frequent ...                5.4   \n",
       "11  ['al_skills: The student has notable difficult...                5.4   \n",
       "12  ['earning_and_thinking_skills: The student dem...                5.4   \n",
       "13  ['work, often leaving tasks incomplete or poor...                5.4   \n",
       "14  ['student finds it difficult to adapt to the s...                5.4   \n",
       "15  ['academic_skills: The student shows an adequa...                6.4   \n",
       "16  ['student demonstrates some autonomy and respo...                6.4   \n",
       "17  ['academic_skills: The student shows an adequa...                6.4   \n",
       "18  ['n of tasks require frequent teacher support ...                6.4   \n",
       "19  ['tely well to the school environment but some...                6.4   \n",
       "\n",
       "    Error skill  Error global grade  \n",
       "0             2                 2.0  \n",
       "1             2                 2.0  \n",
       "2             2                 2.0  \n",
       "3             2                 2.0  \n",
       "4             2                 2.0  \n",
       "5             0                -0.6  \n",
       "6             2                -0.6  \n",
       "7            -2                -0.6  \n",
       "8            -2                -0.6  \n",
       "9             0                -0.6  \n",
       "10            0                -1.4  \n",
       "11           -2                -1.4  \n",
       "12            0                -1.4  \n",
       "13           -2                -1.4  \n",
       "14           -4                -1.4  \n",
       "15            0                -1.2  \n",
       "16            0                -1.2  \n",
       "17           -4                -1.2  \n",
       "18           -2                -1.2  \n",
       "19            0                -1.2  "
      ]
     },
     "execution_count": 8,
     "metadata": {},
     "output_type": "execute_result"
    }
   ],
   "source": [
    "student_grades_gt_preds"
   ]
  },
  {
   "cell_type": "markdown",
   "id": "14ed1b19",
   "metadata": {},
   "source": [
    "## Error per student"
   ]
  },
  {
   "cell_type": "code",
   "execution_count": 9,
   "id": "31d8d285",
   "metadata": {},
   "outputs": [
    {
     "data": {
      "text/html": [
       "<div>\n",
       "<style scoped>\n",
       "    .dataframe tbody tr th:only-of-type {\n",
       "        vertical-align: middle;\n",
       "    }\n",
       "\n",
       "    .dataframe tbody tr th {\n",
       "        vertical-align: top;\n",
       "    }\n",
       "\n",
       "    .dataframe thead th {\n",
       "        text-align: right;\n",
       "    }\n",
       "</style>\n",
       "<table border=\"1\" class=\"dataframe\">\n",
       "  <thead>\n",
       "    <tr style=\"text-align: right;\">\n",
       "      <th></th>\n",
       "      <th>global_grade_gt</th>\n",
       "      <th>global_grade_pred</th>\n",
       "      <th>Error global grade</th>\n",
       "    </tr>\n",
       "    <tr>\n",
       "      <th>student_id</th>\n",
       "      <th></th>\n",
       "      <th></th>\n",
       "      <th></th>\n",
       "    </tr>\n",
       "  </thead>\n",
       "  <tbody>\n",
       "    <tr>\n",
       "      <th>student_1</th>\n",
       "      <td>10.0</td>\n",
       "      <td>8.0</td>\n",
       "      <td>2.0</td>\n",
       "    </tr>\n",
       "    <tr>\n",
       "      <th>student_2</th>\n",
       "      <td>6.2</td>\n",
       "      <td>6.8</td>\n",
       "      <td>-0.6</td>\n",
       "    </tr>\n",
       "    <tr>\n",
       "      <th>student_3</th>\n",
       "      <td>4.0</td>\n",
       "      <td>5.4</td>\n",
       "      <td>-1.4</td>\n",
       "    </tr>\n",
       "    <tr>\n",
       "      <th>student_4</th>\n",
       "      <td>5.2</td>\n",
       "      <td>6.4</td>\n",
       "      <td>-1.2</td>\n",
       "    </tr>\n",
       "  </tbody>\n",
       "</table>\n",
       "</div>"
      ],
      "text/plain": [
       "            global_grade_gt  global_grade_pred  Error global grade\n",
       "student_id                                                        \n",
       "student_1              10.0                8.0                 2.0\n",
       "student_2               6.2                6.8                -0.6\n",
       "student_3               4.0                5.4                -1.4\n",
       "student_4               5.2                6.4                -1.2"
      ]
     },
     "execution_count": 9,
     "metadata": {},
     "output_type": "execute_result"
    }
   ],
   "source": [
    "error_per_student = student_grades_gt_preds.groupby(\"student_id\").first()[[\"global_grade_gt\", \"global_grade_pred\", \"Error global grade\"]]\n",
    "error_per_student"
   ]
  },
  {
   "cell_type": "code",
   "execution_count": 10,
   "id": "975bae15",
   "metadata": {},
   "outputs": [
    {
     "data": {
      "application/vnd.plotly.v1+json": {
       "config": {
        "plotlyServerURL": "https://plot.ly"
       },
       "data": [
        {
         "mode": "markers",
         "name": "Ground truth",
         "type": "scatter",
         "x": [
          "student_1",
          "student_2",
          "student_3",
          "student_4"
         ],
         "y": {
          "bdata": "AAAAAAAAJEDNzMzMzMwYQAEAAAAAABBAzczMzMzMFEA=",
          "dtype": "f8"
         }
        },
        {
         "mode": "markers",
         "name": "IA",
         "type": "scatter",
         "x": [
          "student_1",
          "student_2",
          "student_3",
          "student_4"
         ],
         "y": {
          "bdata": "AAAAAAAAIEAzMzMzMzMbQJqZmZmZmRVAmpmZmZmZGUA=",
          "dtype": "f8"
         }
        }
       ],
       "layout": {
        "template": {
         "data": {
          "bar": [
           {
            "error_x": {
             "color": "#2a3f5f"
            },
            "error_y": {
             "color": "#2a3f5f"
            },
            "marker": {
             "line": {
              "color": "#E5ECF6",
              "width": 0.5
             },
             "pattern": {
              "fillmode": "overlay",
              "size": 10,
              "solidity": 0.2
             }
            },
            "type": "bar"
           }
          ],
          "barpolar": [
           {
            "marker": {
             "line": {
              "color": "#E5ECF6",
              "width": 0.5
             },
             "pattern": {
              "fillmode": "overlay",
              "size": 10,
              "solidity": 0.2
             }
            },
            "type": "barpolar"
           }
          ],
          "carpet": [
           {
            "aaxis": {
             "endlinecolor": "#2a3f5f",
             "gridcolor": "white",
             "linecolor": "white",
             "minorgridcolor": "white",
             "startlinecolor": "#2a3f5f"
            },
            "baxis": {
             "endlinecolor": "#2a3f5f",
             "gridcolor": "white",
             "linecolor": "white",
             "minorgridcolor": "white",
             "startlinecolor": "#2a3f5f"
            },
            "type": "carpet"
           }
          ],
          "choropleth": [
           {
            "colorbar": {
             "outlinewidth": 0,
             "ticks": ""
            },
            "type": "choropleth"
           }
          ],
          "contour": [
           {
            "colorbar": {
             "outlinewidth": 0,
             "ticks": ""
            },
            "colorscale": [
             [
              0,
              "#0d0887"
             ],
             [
              0.1111111111111111,
              "#46039f"
             ],
             [
              0.2222222222222222,
              "#7201a8"
             ],
             [
              0.3333333333333333,
              "#9c179e"
             ],
             [
              0.4444444444444444,
              "#bd3786"
             ],
             [
              0.5555555555555556,
              "#d8576b"
             ],
             [
              0.6666666666666666,
              "#ed7953"
             ],
             [
              0.7777777777777778,
              "#fb9f3a"
             ],
             [
              0.8888888888888888,
              "#fdca26"
             ],
             [
              1,
              "#f0f921"
             ]
            ],
            "type": "contour"
           }
          ],
          "contourcarpet": [
           {
            "colorbar": {
             "outlinewidth": 0,
             "ticks": ""
            },
            "type": "contourcarpet"
           }
          ],
          "heatmap": [
           {
            "colorbar": {
             "outlinewidth": 0,
             "ticks": ""
            },
            "colorscale": [
             [
              0,
              "#0d0887"
             ],
             [
              0.1111111111111111,
              "#46039f"
             ],
             [
              0.2222222222222222,
              "#7201a8"
             ],
             [
              0.3333333333333333,
              "#9c179e"
             ],
             [
              0.4444444444444444,
              "#bd3786"
             ],
             [
              0.5555555555555556,
              "#d8576b"
             ],
             [
              0.6666666666666666,
              "#ed7953"
             ],
             [
              0.7777777777777778,
              "#fb9f3a"
             ],
             [
              0.8888888888888888,
              "#fdca26"
             ],
             [
              1,
              "#f0f921"
             ]
            ],
            "type": "heatmap"
           }
          ],
          "histogram": [
           {
            "marker": {
             "pattern": {
              "fillmode": "overlay",
              "size": 10,
              "solidity": 0.2
             }
            },
            "type": "histogram"
           }
          ],
          "histogram2d": [
           {
            "colorbar": {
             "outlinewidth": 0,
             "ticks": ""
            },
            "colorscale": [
             [
              0,
              "#0d0887"
             ],
             [
              0.1111111111111111,
              "#46039f"
             ],
             [
              0.2222222222222222,
              "#7201a8"
             ],
             [
              0.3333333333333333,
              "#9c179e"
             ],
             [
              0.4444444444444444,
              "#bd3786"
             ],
             [
              0.5555555555555556,
              "#d8576b"
             ],
             [
              0.6666666666666666,
              "#ed7953"
             ],
             [
              0.7777777777777778,
              "#fb9f3a"
             ],
             [
              0.8888888888888888,
              "#fdca26"
             ],
             [
              1,
              "#f0f921"
             ]
            ],
            "type": "histogram2d"
           }
          ],
          "histogram2dcontour": [
           {
            "colorbar": {
             "outlinewidth": 0,
             "ticks": ""
            },
            "colorscale": [
             [
              0,
              "#0d0887"
             ],
             [
              0.1111111111111111,
              "#46039f"
             ],
             [
              0.2222222222222222,
              "#7201a8"
             ],
             [
              0.3333333333333333,
              "#9c179e"
             ],
             [
              0.4444444444444444,
              "#bd3786"
             ],
             [
              0.5555555555555556,
              "#d8576b"
             ],
             [
              0.6666666666666666,
              "#ed7953"
             ],
             [
              0.7777777777777778,
              "#fb9f3a"
             ],
             [
              0.8888888888888888,
              "#fdca26"
             ],
             [
              1,
              "#f0f921"
             ]
            ],
            "type": "histogram2dcontour"
           }
          ],
          "mesh3d": [
           {
            "colorbar": {
             "outlinewidth": 0,
             "ticks": ""
            },
            "type": "mesh3d"
           }
          ],
          "parcoords": [
           {
            "line": {
             "colorbar": {
              "outlinewidth": 0,
              "ticks": ""
             }
            },
            "type": "parcoords"
           }
          ],
          "pie": [
           {
            "automargin": true,
            "type": "pie"
           }
          ],
          "scatter": [
           {
            "fillpattern": {
             "fillmode": "overlay",
             "size": 10,
             "solidity": 0.2
            },
            "type": "scatter"
           }
          ],
          "scatter3d": [
           {
            "line": {
             "colorbar": {
              "outlinewidth": 0,
              "ticks": ""
             }
            },
            "marker": {
             "colorbar": {
              "outlinewidth": 0,
              "ticks": ""
             }
            },
            "type": "scatter3d"
           }
          ],
          "scattercarpet": [
           {
            "marker": {
             "colorbar": {
              "outlinewidth": 0,
              "ticks": ""
             }
            },
            "type": "scattercarpet"
           }
          ],
          "scattergeo": [
           {
            "marker": {
             "colorbar": {
              "outlinewidth": 0,
              "ticks": ""
             }
            },
            "type": "scattergeo"
           }
          ],
          "scattergl": [
           {
            "marker": {
             "colorbar": {
              "outlinewidth": 0,
              "ticks": ""
             }
            },
            "type": "scattergl"
           }
          ],
          "scattermap": [
           {
            "marker": {
             "colorbar": {
              "outlinewidth": 0,
              "ticks": ""
             }
            },
            "type": "scattermap"
           }
          ],
          "scattermapbox": [
           {
            "marker": {
             "colorbar": {
              "outlinewidth": 0,
              "ticks": ""
             }
            },
            "type": "scattermapbox"
           }
          ],
          "scatterpolar": [
           {
            "marker": {
             "colorbar": {
              "outlinewidth": 0,
              "ticks": ""
             }
            },
            "type": "scatterpolar"
           }
          ],
          "scatterpolargl": [
           {
            "marker": {
             "colorbar": {
              "outlinewidth": 0,
              "ticks": ""
             }
            },
            "type": "scatterpolargl"
           }
          ],
          "scatterternary": [
           {
            "marker": {
             "colorbar": {
              "outlinewidth": 0,
              "ticks": ""
             }
            },
            "type": "scatterternary"
           }
          ],
          "surface": [
           {
            "colorbar": {
             "outlinewidth": 0,
             "ticks": ""
            },
            "colorscale": [
             [
              0,
              "#0d0887"
             ],
             [
              0.1111111111111111,
              "#46039f"
             ],
             [
              0.2222222222222222,
              "#7201a8"
             ],
             [
              0.3333333333333333,
              "#9c179e"
             ],
             [
              0.4444444444444444,
              "#bd3786"
             ],
             [
              0.5555555555555556,
              "#d8576b"
             ],
             [
              0.6666666666666666,
              "#ed7953"
             ],
             [
              0.7777777777777778,
              "#fb9f3a"
             ],
             [
              0.8888888888888888,
              "#fdca26"
             ],
             [
              1,
              "#f0f921"
             ]
            ],
            "type": "surface"
           }
          ],
          "table": [
           {
            "cells": {
             "fill": {
              "color": "#EBF0F8"
             },
             "line": {
              "color": "white"
             }
            },
            "header": {
             "fill": {
              "color": "#C8D4E3"
             },
             "line": {
              "color": "white"
             }
            },
            "type": "table"
           }
          ]
         },
         "layout": {
          "annotationdefaults": {
           "arrowcolor": "#2a3f5f",
           "arrowhead": 0,
           "arrowwidth": 1
          },
          "autotypenumbers": "strict",
          "coloraxis": {
           "colorbar": {
            "outlinewidth": 0,
            "ticks": ""
           }
          },
          "colorscale": {
           "diverging": [
            [
             0,
             "#8e0152"
            ],
            [
             0.1,
             "#c51b7d"
            ],
            [
             0.2,
             "#de77ae"
            ],
            [
             0.3,
             "#f1b6da"
            ],
            [
             0.4,
             "#fde0ef"
            ],
            [
             0.5,
             "#f7f7f7"
            ],
            [
             0.6,
             "#e6f5d0"
            ],
            [
             0.7,
             "#b8e186"
            ],
            [
             0.8,
             "#7fbc41"
            ],
            [
             0.9,
             "#4d9221"
            ],
            [
             1,
             "#276419"
            ]
           ],
           "sequential": [
            [
             0,
             "#0d0887"
            ],
            [
             0.1111111111111111,
             "#46039f"
            ],
            [
             0.2222222222222222,
             "#7201a8"
            ],
            [
             0.3333333333333333,
             "#9c179e"
            ],
            [
             0.4444444444444444,
             "#bd3786"
            ],
            [
             0.5555555555555556,
             "#d8576b"
            ],
            [
             0.6666666666666666,
             "#ed7953"
            ],
            [
             0.7777777777777778,
             "#fb9f3a"
            ],
            [
             0.8888888888888888,
             "#fdca26"
            ],
            [
             1,
             "#f0f921"
            ]
           ],
           "sequentialminus": [
            [
             0,
             "#0d0887"
            ],
            [
             0.1111111111111111,
             "#46039f"
            ],
            [
             0.2222222222222222,
             "#7201a8"
            ],
            [
             0.3333333333333333,
             "#9c179e"
            ],
            [
             0.4444444444444444,
             "#bd3786"
            ],
            [
             0.5555555555555556,
             "#d8576b"
            ],
            [
             0.6666666666666666,
             "#ed7953"
            ],
            [
             0.7777777777777778,
             "#fb9f3a"
            ],
            [
             0.8888888888888888,
             "#fdca26"
            ],
            [
             1,
             "#f0f921"
            ]
           ]
          },
          "colorway": [
           "#636efa",
           "#EF553B",
           "#00cc96",
           "#ab63fa",
           "#FFA15A",
           "#19d3f3",
           "#FF6692",
           "#B6E880",
           "#FF97FF",
           "#FECB52"
          ],
          "font": {
           "color": "#2a3f5f"
          },
          "geo": {
           "bgcolor": "white",
           "lakecolor": "white",
           "landcolor": "#E5ECF6",
           "showlakes": true,
           "showland": true,
           "subunitcolor": "white"
          },
          "hoverlabel": {
           "align": "left"
          },
          "hovermode": "closest",
          "mapbox": {
           "style": "light"
          },
          "paper_bgcolor": "white",
          "plot_bgcolor": "#E5ECF6",
          "polar": {
           "angularaxis": {
            "gridcolor": "white",
            "linecolor": "white",
            "ticks": ""
           },
           "bgcolor": "#E5ECF6",
           "radialaxis": {
            "gridcolor": "white",
            "linecolor": "white",
            "ticks": ""
           }
          },
          "scene": {
           "xaxis": {
            "backgroundcolor": "#E5ECF6",
            "gridcolor": "white",
            "gridwidth": 2,
            "linecolor": "white",
            "showbackground": true,
            "ticks": "",
            "zerolinecolor": "white"
           },
           "yaxis": {
            "backgroundcolor": "#E5ECF6",
            "gridcolor": "white",
            "gridwidth": 2,
            "linecolor": "white",
            "showbackground": true,
            "ticks": "",
            "zerolinecolor": "white"
           },
           "zaxis": {
            "backgroundcolor": "#E5ECF6",
            "gridcolor": "white",
            "gridwidth": 2,
            "linecolor": "white",
            "showbackground": true,
            "ticks": "",
            "zerolinecolor": "white"
           }
          },
          "shapedefaults": {
           "line": {
            "color": "#2a3f5f"
           }
          },
          "ternary": {
           "aaxis": {
            "gridcolor": "white",
            "linecolor": "white",
            "ticks": ""
           },
           "baxis": {
            "gridcolor": "white",
            "linecolor": "white",
            "ticks": ""
           },
           "bgcolor": "#E5ECF6",
           "caxis": {
            "gridcolor": "white",
            "linecolor": "white",
            "ticks": ""
           }
          },
          "title": {
           "x": 0.05
          },
          "xaxis": {
           "automargin": true,
           "gridcolor": "white",
           "linecolor": "white",
           "ticks": "",
           "title": {
            "standoff": 15
           },
           "zerolinecolor": "white",
           "zerolinewidth": 2
          },
          "yaxis": {
           "automargin": true,
           "gridcolor": "white",
           "linecolor": "white",
           "ticks": "",
           "title": {
            "standoff": 15
           },
           "zerolinecolor": "white",
           "zerolinewidth": 2
          }
         }
        },
        "xaxis": {
         "tickangle": 45,
         "title": {
          "text": "Student"
         }
        },
        "yaxis": {
         "title": {
          "text": "Global grade"
         }
        }
       }
      }
     },
     "metadata": {},
     "output_type": "display_data"
    }
   ],
   "source": [
    "fig = go.Figure()\n",
    "\n",
    "fig.add_trace(go.Scatter(\n",
    "    x=error_per_student.index,\n",
    "    y=error_per_student[\"global_grade_gt\"],\n",
    "    mode=\"markers\",\n",
    "    name=\"Ground truth\"\n",
    "))\n",
    "fig.add_trace(go.Scatter(\n",
    "    x=error_per_student.index,\n",
    "    y=error_per_student[\"global_grade_pred\"],\n",
    "    mode=\"markers\",\n",
    "    name=\"IA\"\n",
    "))\n",
    "\n",
    "fig.update_layout(\n",
    "    xaxis_title=\"Student\",\n",
    "    yaxis_title=\"Global grade\",\n",
    "    xaxis=dict(tickangle=45)\n",
    ")\n",
    "\n",
    "fig.show()\n"
   ]
  },
  {
   "cell_type": "code",
   "execution_count": 11,
   "id": "4a74a6a7",
   "metadata": {},
   "outputs": [
    {
     "data": {
      "application/vnd.plotly.v1+json": {
       "config": {
        "plotlyServerURL": "https://plot.ly"
       },
       "data": [
        {
         "mode": "markers",
         "type": "scatter",
         "x": [
          "student_1",
          "student_2",
          "student_3",
          "student_4"
         ],
         "y": {
          "bdata": "AAAAAAAAAEAwMzMzMzPjv2RmZmZmZva/NDMzMzMz878=",
          "dtype": "f8"
         }
        }
       ],
       "layout": {
        "shapes": [
         {
          "line": {
           "color": "red",
           "dash": "dash"
          },
          "type": "line",
          "x0": 0,
          "x1": 1,
          "xref": "x domain",
          "y0": 1.5,
          "y1": 1.5,
          "yref": "y"
         },
         {
          "line": {
           "color": "red",
           "dash": "dash"
          },
          "type": "line",
          "x0": 0,
          "x1": 1,
          "xref": "x domain",
          "y0": -1.5,
          "y1": -1.5,
          "yref": "y"
         }
        ],
        "template": {
         "data": {
          "bar": [
           {
            "error_x": {
             "color": "#2a3f5f"
            },
            "error_y": {
             "color": "#2a3f5f"
            },
            "marker": {
             "line": {
              "color": "#E5ECF6",
              "width": 0.5
             },
             "pattern": {
              "fillmode": "overlay",
              "size": 10,
              "solidity": 0.2
             }
            },
            "type": "bar"
           }
          ],
          "barpolar": [
           {
            "marker": {
             "line": {
              "color": "#E5ECF6",
              "width": 0.5
             },
             "pattern": {
              "fillmode": "overlay",
              "size": 10,
              "solidity": 0.2
             }
            },
            "type": "barpolar"
           }
          ],
          "carpet": [
           {
            "aaxis": {
             "endlinecolor": "#2a3f5f",
             "gridcolor": "white",
             "linecolor": "white",
             "minorgridcolor": "white",
             "startlinecolor": "#2a3f5f"
            },
            "baxis": {
             "endlinecolor": "#2a3f5f",
             "gridcolor": "white",
             "linecolor": "white",
             "minorgridcolor": "white",
             "startlinecolor": "#2a3f5f"
            },
            "type": "carpet"
           }
          ],
          "choropleth": [
           {
            "colorbar": {
             "outlinewidth": 0,
             "ticks": ""
            },
            "type": "choropleth"
           }
          ],
          "contour": [
           {
            "colorbar": {
             "outlinewidth": 0,
             "ticks": ""
            },
            "colorscale": [
             [
              0,
              "#0d0887"
             ],
             [
              0.1111111111111111,
              "#46039f"
             ],
             [
              0.2222222222222222,
              "#7201a8"
             ],
             [
              0.3333333333333333,
              "#9c179e"
             ],
             [
              0.4444444444444444,
              "#bd3786"
             ],
             [
              0.5555555555555556,
              "#d8576b"
             ],
             [
              0.6666666666666666,
              "#ed7953"
             ],
             [
              0.7777777777777778,
              "#fb9f3a"
             ],
             [
              0.8888888888888888,
              "#fdca26"
             ],
             [
              1,
              "#f0f921"
             ]
            ],
            "type": "contour"
           }
          ],
          "contourcarpet": [
           {
            "colorbar": {
             "outlinewidth": 0,
             "ticks": ""
            },
            "type": "contourcarpet"
           }
          ],
          "heatmap": [
           {
            "colorbar": {
             "outlinewidth": 0,
             "ticks": ""
            },
            "colorscale": [
             [
              0,
              "#0d0887"
             ],
             [
              0.1111111111111111,
              "#46039f"
             ],
             [
              0.2222222222222222,
              "#7201a8"
             ],
             [
              0.3333333333333333,
              "#9c179e"
             ],
             [
              0.4444444444444444,
              "#bd3786"
             ],
             [
              0.5555555555555556,
              "#d8576b"
             ],
             [
              0.6666666666666666,
              "#ed7953"
             ],
             [
              0.7777777777777778,
              "#fb9f3a"
             ],
             [
              0.8888888888888888,
              "#fdca26"
             ],
             [
              1,
              "#f0f921"
             ]
            ],
            "type": "heatmap"
           }
          ],
          "histogram": [
           {
            "marker": {
             "pattern": {
              "fillmode": "overlay",
              "size": 10,
              "solidity": 0.2
             }
            },
            "type": "histogram"
           }
          ],
          "histogram2d": [
           {
            "colorbar": {
             "outlinewidth": 0,
             "ticks": ""
            },
            "colorscale": [
             [
              0,
              "#0d0887"
             ],
             [
              0.1111111111111111,
              "#46039f"
             ],
             [
              0.2222222222222222,
              "#7201a8"
             ],
             [
              0.3333333333333333,
              "#9c179e"
             ],
             [
              0.4444444444444444,
              "#bd3786"
             ],
             [
              0.5555555555555556,
              "#d8576b"
             ],
             [
              0.6666666666666666,
              "#ed7953"
             ],
             [
              0.7777777777777778,
              "#fb9f3a"
             ],
             [
              0.8888888888888888,
              "#fdca26"
             ],
             [
              1,
              "#f0f921"
             ]
            ],
            "type": "histogram2d"
           }
          ],
          "histogram2dcontour": [
           {
            "colorbar": {
             "outlinewidth": 0,
             "ticks": ""
            },
            "colorscale": [
             [
              0,
              "#0d0887"
             ],
             [
              0.1111111111111111,
              "#46039f"
             ],
             [
              0.2222222222222222,
              "#7201a8"
             ],
             [
              0.3333333333333333,
              "#9c179e"
             ],
             [
              0.4444444444444444,
              "#bd3786"
             ],
             [
              0.5555555555555556,
              "#d8576b"
             ],
             [
              0.6666666666666666,
              "#ed7953"
             ],
             [
              0.7777777777777778,
              "#fb9f3a"
             ],
             [
              0.8888888888888888,
              "#fdca26"
             ],
             [
              1,
              "#f0f921"
             ]
            ],
            "type": "histogram2dcontour"
           }
          ],
          "mesh3d": [
           {
            "colorbar": {
             "outlinewidth": 0,
             "ticks": ""
            },
            "type": "mesh3d"
           }
          ],
          "parcoords": [
           {
            "line": {
             "colorbar": {
              "outlinewidth": 0,
              "ticks": ""
             }
            },
            "type": "parcoords"
           }
          ],
          "pie": [
           {
            "automargin": true,
            "type": "pie"
           }
          ],
          "scatter": [
           {
            "fillpattern": {
             "fillmode": "overlay",
             "size": 10,
             "solidity": 0.2
            },
            "type": "scatter"
           }
          ],
          "scatter3d": [
           {
            "line": {
             "colorbar": {
              "outlinewidth": 0,
              "ticks": ""
             }
            },
            "marker": {
             "colorbar": {
              "outlinewidth": 0,
              "ticks": ""
             }
            },
            "type": "scatter3d"
           }
          ],
          "scattercarpet": [
           {
            "marker": {
             "colorbar": {
              "outlinewidth": 0,
              "ticks": ""
             }
            },
            "type": "scattercarpet"
           }
          ],
          "scattergeo": [
           {
            "marker": {
             "colorbar": {
              "outlinewidth": 0,
              "ticks": ""
             }
            },
            "type": "scattergeo"
           }
          ],
          "scattergl": [
           {
            "marker": {
             "colorbar": {
              "outlinewidth": 0,
              "ticks": ""
             }
            },
            "type": "scattergl"
           }
          ],
          "scattermap": [
           {
            "marker": {
             "colorbar": {
              "outlinewidth": 0,
              "ticks": ""
             }
            },
            "type": "scattermap"
           }
          ],
          "scattermapbox": [
           {
            "marker": {
             "colorbar": {
              "outlinewidth": 0,
              "ticks": ""
             }
            },
            "type": "scattermapbox"
           }
          ],
          "scatterpolar": [
           {
            "marker": {
             "colorbar": {
              "outlinewidth": 0,
              "ticks": ""
             }
            },
            "type": "scatterpolar"
           }
          ],
          "scatterpolargl": [
           {
            "marker": {
             "colorbar": {
              "outlinewidth": 0,
              "ticks": ""
             }
            },
            "type": "scatterpolargl"
           }
          ],
          "scatterternary": [
           {
            "marker": {
             "colorbar": {
              "outlinewidth": 0,
              "ticks": ""
             }
            },
            "type": "scatterternary"
           }
          ],
          "surface": [
           {
            "colorbar": {
             "outlinewidth": 0,
             "ticks": ""
            },
            "colorscale": [
             [
              0,
              "#0d0887"
             ],
             [
              0.1111111111111111,
              "#46039f"
             ],
             [
              0.2222222222222222,
              "#7201a8"
             ],
             [
              0.3333333333333333,
              "#9c179e"
             ],
             [
              0.4444444444444444,
              "#bd3786"
             ],
             [
              0.5555555555555556,
              "#d8576b"
             ],
             [
              0.6666666666666666,
              "#ed7953"
             ],
             [
              0.7777777777777778,
              "#fb9f3a"
             ],
             [
              0.8888888888888888,
              "#fdca26"
             ],
             [
              1,
              "#f0f921"
             ]
            ],
            "type": "surface"
           }
          ],
          "table": [
           {
            "cells": {
             "fill": {
              "color": "#EBF0F8"
             },
             "line": {
              "color": "white"
             }
            },
            "header": {
             "fill": {
              "color": "#C8D4E3"
             },
             "line": {
              "color": "white"
             }
            },
            "type": "table"
           }
          ]
         },
         "layout": {
          "annotationdefaults": {
           "arrowcolor": "#2a3f5f",
           "arrowhead": 0,
           "arrowwidth": 1
          },
          "autotypenumbers": "strict",
          "coloraxis": {
           "colorbar": {
            "outlinewidth": 0,
            "ticks": ""
           }
          },
          "colorscale": {
           "diverging": [
            [
             0,
             "#8e0152"
            ],
            [
             0.1,
             "#c51b7d"
            ],
            [
             0.2,
             "#de77ae"
            ],
            [
             0.3,
             "#f1b6da"
            ],
            [
             0.4,
             "#fde0ef"
            ],
            [
             0.5,
             "#f7f7f7"
            ],
            [
             0.6,
             "#e6f5d0"
            ],
            [
             0.7,
             "#b8e186"
            ],
            [
             0.8,
             "#7fbc41"
            ],
            [
             0.9,
             "#4d9221"
            ],
            [
             1,
             "#276419"
            ]
           ],
           "sequential": [
            [
             0,
             "#0d0887"
            ],
            [
             0.1111111111111111,
             "#46039f"
            ],
            [
             0.2222222222222222,
             "#7201a8"
            ],
            [
             0.3333333333333333,
             "#9c179e"
            ],
            [
             0.4444444444444444,
             "#bd3786"
            ],
            [
             0.5555555555555556,
             "#d8576b"
            ],
            [
             0.6666666666666666,
             "#ed7953"
            ],
            [
             0.7777777777777778,
             "#fb9f3a"
            ],
            [
             0.8888888888888888,
             "#fdca26"
            ],
            [
             1,
             "#f0f921"
            ]
           ],
           "sequentialminus": [
            [
             0,
             "#0d0887"
            ],
            [
             0.1111111111111111,
             "#46039f"
            ],
            [
             0.2222222222222222,
             "#7201a8"
            ],
            [
             0.3333333333333333,
             "#9c179e"
            ],
            [
             0.4444444444444444,
             "#bd3786"
            ],
            [
             0.5555555555555556,
             "#d8576b"
            ],
            [
             0.6666666666666666,
             "#ed7953"
            ],
            [
             0.7777777777777778,
             "#fb9f3a"
            ],
            [
             0.8888888888888888,
             "#fdca26"
            ],
            [
             1,
             "#f0f921"
            ]
           ]
          },
          "colorway": [
           "#636efa",
           "#EF553B",
           "#00cc96",
           "#ab63fa",
           "#FFA15A",
           "#19d3f3",
           "#FF6692",
           "#B6E880",
           "#FF97FF",
           "#FECB52"
          ],
          "font": {
           "color": "#2a3f5f"
          },
          "geo": {
           "bgcolor": "white",
           "lakecolor": "white",
           "landcolor": "#E5ECF6",
           "showlakes": true,
           "showland": true,
           "subunitcolor": "white"
          },
          "hoverlabel": {
           "align": "left"
          },
          "hovermode": "closest",
          "mapbox": {
           "style": "light"
          },
          "paper_bgcolor": "white",
          "plot_bgcolor": "#E5ECF6",
          "polar": {
           "angularaxis": {
            "gridcolor": "white",
            "linecolor": "white",
            "ticks": ""
           },
           "bgcolor": "#E5ECF6",
           "radialaxis": {
            "gridcolor": "white",
            "linecolor": "white",
            "ticks": ""
           }
          },
          "scene": {
           "xaxis": {
            "backgroundcolor": "#E5ECF6",
            "gridcolor": "white",
            "gridwidth": 2,
            "linecolor": "white",
            "showbackground": true,
            "ticks": "",
            "zerolinecolor": "white"
           },
           "yaxis": {
            "backgroundcolor": "#E5ECF6",
            "gridcolor": "white",
            "gridwidth": 2,
            "linecolor": "white",
            "showbackground": true,
            "ticks": "",
            "zerolinecolor": "white"
           },
           "zaxis": {
            "backgroundcolor": "#E5ECF6",
            "gridcolor": "white",
            "gridwidth": 2,
            "linecolor": "white",
            "showbackground": true,
            "ticks": "",
            "zerolinecolor": "white"
           }
          },
          "shapedefaults": {
           "line": {
            "color": "#2a3f5f"
           }
          },
          "ternary": {
           "aaxis": {
            "gridcolor": "white",
            "linecolor": "white",
            "ticks": ""
           },
           "baxis": {
            "gridcolor": "white",
            "linecolor": "white",
            "ticks": ""
           },
           "bgcolor": "#E5ECF6",
           "caxis": {
            "gridcolor": "white",
            "linecolor": "white",
            "ticks": ""
           }
          },
          "title": {
           "x": 0.05
          },
          "xaxis": {
           "automargin": true,
           "gridcolor": "white",
           "linecolor": "white",
           "ticks": "",
           "title": {
            "standoff": 15
           },
           "zerolinecolor": "white",
           "zerolinewidth": 2
          },
          "yaxis": {
           "automargin": true,
           "gridcolor": "white",
           "linecolor": "white",
           "ticks": "",
           "title": {
            "standoff": 15
           },
           "zerolinecolor": "white",
           "zerolinewidth": 2
          }
         }
        },
        "xaxis": {
         "tickangle": 45,
         "title": {
          "text": "Student"
         }
        },
        "yaxis": {
         "title": {
          "text": "Error global grade (GT-IA)"
         }
        }
       }
      }
     },
     "metadata": {},
     "output_type": "display_data"
    }
   ],
   "source": [
    "fig = go.Figure()\n",
    "\n",
    "\n",
    "fig.add_trace(go.Scatter(\n",
    "    x=error_per_student.index,\n",
    "    y=error_per_student[\"Error global grade\"],\n",
    "    mode=\"markers\"\n",
    "))\n",
    "\n",
    "fig.add_hline(y=1.5, line_dash=\"dash\", line_color=\"red\")\n",
    "fig.add_hline(y=-1.5, line_dash=\"dash\", line_color=\"red\")\n",
    "\n",
    "fig.update_layout(\n",
    "    xaxis_title=\"Student\",\n",
    "    yaxis_title=\"Error global grade (GT-IA)\",\n",
    "    xaxis=dict(tickangle=45)\n",
    ")\n",
    "\n",
    "fig.show()\n"
   ]
  },
  {
   "cell_type": "markdown",
   "id": "0de8d207",
   "metadata": {},
   "source": [
    "## Error per skill"
   ]
  },
  {
   "cell_type": "code",
   "execution_count": 12,
   "id": "684552fa",
   "metadata": {},
   "outputs": [
    {
     "data": {
      "text/plain": [
       "skill\n",
       "academic_skills                 0.5\n",
       "communication_skills            2.0\n",
       "guidance_skills                 1.5\n",
       "learning_and_thinking_skills    2.0\n",
       "socioemotional_skills           1.5\n",
       "Name: Error skill, dtype: float64"
      ]
     },
     "execution_count": 12,
     "metadata": {},
     "output_type": "execute_result"
    }
   ],
   "source": [
    "error_per_skill = student_grades_gt_preds.groupby(\"skill\")[\"Error skill\"].apply(lambda x: x.abs().mean())\n",
    "error_per_skill"
   ]
  },
  {
   "cell_type": "code",
   "execution_count": 13,
   "id": "02a2ee46",
   "metadata": {},
   "outputs": [],
   "source": [
    "error_per_skill = pd.DataFrame(error_per_skill)"
   ]
  },
  {
   "cell_type": "code",
   "execution_count": 14,
   "id": "e8d9b344",
   "metadata": {},
   "outputs": [],
   "source": [
    "for skill in error_per_skill.index:\n",
    "    error_per_skill.loc[skill, \"Number students error other than 0\"] = len(student_grades_gt_preds.loc[(student_grades_gt_preds[\"skill\"]==skill)&(student_grades_gt_preds[\"Error global grade\"]!=0)])\n",
    "    error_per_skill.loc[skill, \"Number students absoluto error greater than 1\"] = len(student_grades_gt_preds.loc[(student_grades_gt_preds[\"skill\"]==skill)&(abs(student_grades_gt_preds[\"Error global grade\"])>1)])\n",
    "    error_per_skill.loc[skill, \"Number students absolute error greater than 2\"] = len(student_grades_gt_preds.loc[(student_grades_gt_preds[\"skill\"]==skill)&(abs(student_grades_gt_preds[\"Error global grade\"])>2)])\n",
    "    error_per_skill.loc[skill, \"Number students absolute error equal to 10\"] = len(student_grades_gt_preds.loc[(student_grades_gt_preds[\"skill\"]==skill)&(abs(student_grades_gt_preds[\"Error global grade\"])==10)])\n",
    "    error_per_skill.loc[skill, \"Number students IA less restrictive\"] = len(student_grades_gt_preds.loc[(student_grades_gt_preds[\"skill\"]==skill)&(student_grades_gt_preds[\"grade_gt\"]>student_grades_gt_preds[\"grade_pred\"])])\n",
    "    error_per_skill.loc[skill, \"Number students IA more or equal restrictive\"] = len(student_grades_gt_preds.loc[(student_grades_gt_preds[\"skill\"]==skill)&(student_grades_gt_preds[\"grade_gt\"]<=student_grades_gt_preds[\"grade_pred\"])])"
   ]
  },
  {
   "cell_type": "code",
   "execution_count": 15,
   "id": "bfc714f1",
   "metadata": {},
   "outputs": [
    {
     "data": {
      "text/html": [
       "<div>\n",
       "<style scoped>\n",
       "    .dataframe tbody tr th:only-of-type {\n",
       "        vertical-align: middle;\n",
       "    }\n",
       "\n",
       "    .dataframe tbody tr th {\n",
       "        vertical-align: top;\n",
       "    }\n",
       "\n",
       "    .dataframe thead th {\n",
       "        text-align: right;\n",
       "    }\n",
       "</style>\n",
       "<table border=\"1\" class=\"dataframe\">\n",
       "  <thead>\n",
       "    <tr style=\"text-align: right;\">\n",
       "      <th></th>\n",
       "      <th>Error skill</th>\n",
       "      <th>Number students error other than 0</th>\n",
       "      <th>Number students absoluto error greater than 1</th>\n",
       "      <th>Number students absolute error greater than 2</th>\n",
       "      <th>Number students absolute error equal to 10</th>\n",
       "      <th>Number students IA less restrictive</th>\n",
       "      <th>Number students IA more or equal restrictive</th>\n",
       "    </tr>\n",
       "    <tr>\n",
       "      <th>skill</th>\n",
       "      <th></th>\n",
       "      <th></th>\n",
       "      <th></th>\n",
       "      <th></th>\n",
       "      <th></th>\n",
       "      <th></th>\n",
       "      <th></th>\n",
       "    </tr>\n",
       "  </thead>\n",
       "  <tbody>\n",
       "    <tr>\n",
       "      <th>academic_skills</th>\n",
       "      <td>0.5</td>\n",
       "      <td>4.0</td>\n",
       "      <td>3.0</td>\n",
       "      <td>0.0</td>\n",
       "      <td>0.0</td>\n",
       "      <td>1.0</td>\n",
       "      <td>3.0</td>\n",
       "    </tr>\n",
       "    <tr>\n",
       "      <th>communication_skills</th>\n",
       "      <td>2.0</td>\n",
       "      <td>4.0</td>\n",
       "      <td>3.0</td>\n",
       "      <td>0.0</td>\n",
       "      <td>0.0</td>\n",
       "      <td>1.0</td>\n",
       "      <td>3.0</td>\n",
       "    </tr>\n",
       "    <tr>\n",
       "      <th>guidance_skills</th>\n",
       "      <td>1.5</td>\n",
       "      <td>4.0</td>\n",
       "      <td>3.0</td>\n",
       "      <td>0.0</td>\n",
       "      <td>0.0</td>\n",
       "      <td>1.0</td>\n",
       "      <td>3.0</td>\n",
       "    </tr>\n",
       "    <tr>\n",
       "      <th>learning_and_thinking_skills</th>\n",
       "      <td>2.0</td>\n",
       "      <td>4.0</td>\n",
       "      <td>3.0</td>\n",
       "      <td>0.0</td>\n",
       "      <td>0.0</td>\n",
       "      <td>1.0</td>\n",
       "      <td>3.0</td>\n",
       "    </tr>\n",
       "    <tr>\n",
       "      <th>socioemotional_skills</th>\n",
       "      <td>1.5</td>\n",
       "      <td>4.0</td>\n",
       "      <td>3.0</td>\n",
       "      <td>0.0</td>\n",
       "      <td>0.0</td>\n",
       "      <td>2.0</td>\n",
       "      <td>2.0</td>\n",
       "    </tr>\n",
       "  </tbody>\n",
       "</table>\n",
       "</div>"
      ],
      "text/plain": [
       "                              Error skill  Number students error other than 0  \\\n",
       "skill                                                                           \n",
       "academic_skills                       0.5                                 4.0   \n",
       "communication_skills                  2.0                                 4.0   \n",
       "guidance_skills                       1.5                                 4.0   \n",
       "learning_and_thinking_skills          2.0                                 4.0   \n",
       "socioemotional_skills                 1.5                                 4.0   \n",
       "\n",
       "                              Number students absoluto error greater than 1  \\\n",
       "skill                                                                         \n",
       "academic_skills                                                         3.0   \n",
       "communication_skills                                                    3.0   \n",
       "guidance_skills                                                         3.0   \n",
       "learning_and_thinking_skills                                            3.0   \n",
       "socioemotional_skills                                                   3.0   \n",
       "\n",
       "                              Number students absolute error greater than 2  \\\n",
       "skill                                                                         \n",
       "academic_skills                                                         0.0   \n",
       "communication_skills                                                    0.0   \n",
       "guidance_skills                                                         0.0   \n",
       "learning_and_thinking_skills                                            0.0   \n",
       "socioemotional_skills                                                   0.0   \n",
       "\n",
       "                              Number students absolute error equal to 10  \\\n",
       "skill                                                                      \n",
       "academic_skills                                                      0.0   \n",
       "communication_skills                                                 0.0   \n",
       "guidance_skills                                                      0.0   \n",
       "learning_and_thinking_skills                                         0.0   \n",
       "socioemotional_skills                                                0.0   \n",
       "\n",
       "                              Number students IA less restrictive  \\\n",
       "skill                                                               \n",
       "academic_skills                                               1.0   \n",
       "communication_skills                                          1.0   \n",
       "guidance_skills                                               1.0   \n",
       "learning_and_thinking_skills                                  1.0   \n",
       "socioemotional_skills                                         2.0   \n",
       "\n",
       "                              Number students IA more or equal restrictive  \n",
       "skill                                                                       \n",
       "academic_skills                                                        3.0  \n",
       "communication_skills                                                   3.0  \n",
       "guidance_skills                                                        3.0  \n",
       "learning_and_thinking_skills                                           3.0  \n",
       "socioemotional_skills                                                  2.0  "
      ]
     },
     "execution_count": 15,
     "metadata": {},
     "output_type": "execute_result"
    }
   ],
   "source": [
    "error_per_skill"
   ]
  },
  {
   "cell_type": "code",
   "execution_count": 16,
   "id": "92d284f5",
   "metadata": {},
   "outputs": [
    {
     "data": {
      "application/vnd.plotly.v1+json": {
       "config": {
        "plotlyServerURL": "https://plot.ly"
       },
       "data": [
        {
         "mode": "markers",
         "type": "scatter",
         "x": [
          "academic_skills",
          "communication_skills",
          "guidance_skills",
          "learning_and_thinking_skills",
          "socioemotional_skills"
         ],
         "y": {
          "bdata": "AAAAAAAA4D8AAAAAAAAAQAAAAAAAAPg/AAAAAAAAAEAAAAAAAAD4Pw==",
          "dtype": "f8"
         }
        }
       ],
       "layout": {
        "shapes": [
         {
          "line": {
           "color": "red",
           "dash": "dash"
          },
          "type": "line",
          "x0": 0,
          "x1": 1,
          "xref": "x domain",
          "y0": 1.75,
          "y1": 1.75,
          "yref": "y"
         }
        ],
        "template": {
         "data": {
          "bar": [
           {
            "error_x": {
             "color": "#2a3f5f"
            },
            "error_y": {
             "color": "#2a3f5f"
            },
            "marker": {
             "line": {
              "color": "#E5ECF6",
              "width": 0.5
             },
             "pattern": {
              "fillmode": "overlay",
              "size": 10,
              "solidity": 0.2
             }
            },
            "type": "bar"
           }
          ],
          "barpolar": [
           {
            "marker": {
             "line": {
              "color": "#E5ECF6",
              "width": 0.5
             },
             "pattern": {
              "fillmode": "overlay",
              "size": 10,
              "solidity": 0.2
             }
            },
            "type": "barpolar"
           }
          ],
          "carpet": [
           {
            "aaxis": {
             "endlinecolor": "#2a3f5f",
             "gridcolor": "white",
             "linecolor": "white",
             "minorgridcolor": "white",
             "startlinecolor": "#2a3f5f"
            },
            "baxis": {
             "endlinecolor": "#2a3f5f",
             "gridcolor": "white",
             "linecolor": "white",
             "minorgridcolor": "white",
             "startlinecolor": "#2a3f5f"
            },
            "type": "carpet"
           }
          ],
          "choropleth": [
           {
            "colorbar": {
             "outlinewidth": 0,
             "ticks": ""
            },
            "type": "choropleth"
           }
          ],
          "contour": [
           {
            "colorbar": {
             "outlinewidth": 0,
             "ticks": ""
            },
            "colorscale": [
             [
              0,
              "#0d0887"
             ],
             [
              0.1111111111111111,
              "#46039f"
             ],
             [
              0.2222222222222222,
              "#7201a8"
             ],
             [
              0.3333333333333333,
              "#9c179e"
             ],
             [
              0.4444444444444444,
              "#bd3786"
             ],
             [
              0.5555555555555556,
              "#d8576b"
             ],
             [
              0.6666666666666666,
              "#ed7953"
             ],
             [
              0.7777777777777778,
              "#fb9f3a"
             ],
             [
              0.8888888888888888,
              "#fdca26"
             ],
             [
              1,
              "#f0f921"
             ]
            ],
            "type": "contour"
           }
          ],
          "contourcarpet": [
           {
            "colorbar": {
             "outlinewidth": 0,
             "ticks": ""
            },
            "type": "contourcarpet"
           }
          ],
          "heatmap": [
           {
            "colorbar": {
             "outlinewidth": 0,
             "ticks": ""
            },
            "colorscale": [
             [
              0,
              "#0d0887"
             ],
             [
              0.1111111111111111,
              "#46039f"
             ],
             [
              0.2222222222222222,
              "#7201a8"
             ],
             [
              0.3333333333333333,
              "#9c179e"
             ],
             [
              0.4444444444444444,
              "#bd3786"
             ],
             [
              0.5555555555555556,
              "#d8576b"
             ],
             [
              0.6666666666666666,
              "#ed7953"
             ],
             [
              0.7777777777777778,
              "#fb9f3a"
             ],
             [
              0.8888888888888888,
              "#fdca26"
             ],
             [
              1,
              "#f0f921"
             ]
            ],
            "type": "heatmap"
           }
          ],
          "histogram": [
           {
            "marker": {
             "pattern": {
              "fillmode": "overlay",
              "size": 10,
              "solidity": 0.2
             }
            },
            "type": "histogram"
           }
          ],
          "histogram2d": [
           {
            "colorbar": {
             "outlinewidth": 0,
             "ticks": ""
            },
            "colorscale": [
             [
              0,
              "#0d0887"
             ],
             [
              0.1111111111111111,
              "#46039f"
             ],
             [
              0.2222222222222222,
              "#7201a8"
             ],
             [
              0.3333333333333333,
              "#9c179e"
             ],
             [
              0.4444444444444444,
              "#bd3786"
             ],
             [
              0.5555555555555556,
              "#d8576b"
             ],
             [
              0.6666666666666666,
              "#ed7953"
             ],
             [
              0.7777777777777778,
              "#fb9f3a"
             ],
             [
              0.8888888888888888,
              "#fdca26"
             ],
             [
              1,
              "#f0f921"
             ]
            ],
            "type": "histogram2d"
           }
          ],
          "histogram2dcontour": [
           {
            "colorbar": {
             "outlinewidth": 0,
             "ticks": ""
            },
            "colorscale": [
             [
              0,
              "#0d0887"
             ],
             [
              0.1111111111111111,
              "#46039f"
             ],
             [
              0.2222222222222222,
              "#7201a8"
             ],
             [
              0.3333333333333333,
              "#9c179e"
             ],
             [
              0.4444444444444444,
              "#bd3786"
             ],
             [
              0.5555555555555556,
              "#d8576b"
             ],
             [
              0.6666666666666666,
              "#ed7953"
             ],
             [
              0.7777777777777778,
              "#fb9f3a"
             ],
             [
              0.8888888888888888,
              "#fdca26"
             ],
             [
              1,
              "#f0f921"
             ]
            ],
            "type": "histogram2dcontour"
           }
          ],
          "mesh3d": [
           {
            "colorbar": {
             "outlinewidth": 0,
             "ticks": ""
            },
            "type": "mesh3d"
           }
          ],
          "parcoords": [
           {
            "line": {
             "colorbar": {
              "outlinewidth": 0,
              "ticks": ""
             }
            },
            "type": "parcoords"
           }
          ],
          "pie": [
           {
            "automargin": true,
            "type": "pie"
           }
          ],
          "scatter": [
           {
            "fillpattern": {
             "fillmode": "overlay",
             "size": 10,
             "solidity": 0.2
            },
            "type": "scatter"
           }
          ],
          "scatter3d": [
           {
            "line": {
             "colorbar": {
              "outlinewidth": 0,
              "ticks": ""
             }
            },
            "marker": {
             "colorbar": {
              "outlinewidth": 0,
              "ticks": ""
             }
            },
            "type": "scatter3d"
           }
          ],
          "scattercarpet": [
           {
            "marker": {
             "colorbar": {
              "outlinewidth": 0,
              "ticks": ""
             }
            },
            "type": "scattercarpet"
           }
          ],
          "scattergeo": [
           {
            "marker": {
             "colorbar": {
              "outlinewidth": 0,
              "ticks": ""
             }
            },
            "type": "scattergeo"
           }
          ],
          "scattergl": [
           {
            "marker": {
             "colorbar": {
              "outlinewidth": 0,
              "ticks": ""
             }
            },
            "type": "scattergl"
           }
          ],
          "scattermap": [
           {
            "marker": {
             "colorbar": {
              "outlinewidth": 0,
              "ticks": ""
             }
            },
            "type": "scattermap"
           }
          ],
          "scattermapbox": [
           {
            "marker": {
             "colorbar": {
              "outlinewidth": 0,
              "ticks": ""
             }
            },
            "type": "scattermapbox"
           }
          ],
          "scatterpolar": [
           {
            "marker": {
             "colorbar": {
              "outlinewidth": 0,
              "ticks": ""
             }
            },
            "type": "scatterpolar"
           }
          ],
          "scatterpolargl": [
           {
            "marker": {
             "colorbar": {
              "outlinewidth": 0,
              "ticks": ""
             }
            },
            "type": "scatterpolargl"
           }
          ],
          "scatterternary": [
           {
            "marker": {
             "colorbar": {
              "outlinewidth": 0,
              "ticks": ""
             }
            },
            "type": "scatterternary"
           }
          ],
          "surface": [
           {
            "colorbar": {
             "outlinewidth": 0,
             "ticks": ""
            },
            "colorscale": [
             [
              0,
              "#0d0887"
             ],
             [
              0.1111111111111111,
              "#46039f"
             ],
             [
              0.2222222222222222,
              "#7201a8"
             ],
             [
              0.3333333333333333,
              "#9c179e"
             ],
             [
              0.4444444444444444,
              "#bd3786"
             ],
             [
              0.5555555555555556,
              "#d8576b"
             ],
             [
              0.6666666666666666,
              "#ed7953"
             ],
             [
              0.7777777777777778,
              "#fb9f3a"
             ],
             [
              0.8888888888888888,
              "#fdca26"
             ],
             [
              1,
              "#f0f921"
             ]
            ],
            "type": "surface"
           }
          ],
          "table": [
           {
            "cells": {
             "fill": {
              "color": "#EBF0F8"
             },
             "line": {
              "color": "white"
             }
            },
            "header": {
             "fill": {
              "color": "#C8D4E3"
             },
             "line": {
              "color": "white"
             }
            },
            "type": "table"
           }
          ]
         },
         "layout": {
          "annotationdefaults": {
           "arrowcolor": "#2a3f5f",
           "arrowhead": 0,
           "arrowwidth": 1
          },
          "autotypenumbers": "strict",
          "coloraxis": {
           "colorbar": {
            "outlinewidth": 0,
            "ticks": ""
           }
          },
          "colorscale": {
           "diverging": [
            [
             0,
             "#8e0152"
            ],
            [
             0.1,
             "#c51b7d"
            ],
            [
             0.2,
             "#de77ae"
            ],
            [
             0.3,
             "#f1b6da"
            ],
            [
             0.4,
             "#fde0ef"
            ],
            [
             0.5,
             "#f7f7f7"
            ],
            [
             0.6,
             "#e6f5d0"
            ],
            [
             0.7,
             "#b8e186"
            ],
            [
             0.8,
             "#7fbc41"
            ],
            [
             0.9,
             "#4d9221"
            ],
            [
             1,
             "#276419"
            ]
           ],
           "sequential": [
            [
             0,
             "#0d0887"
            ],
            [
             0.1111111111111111,
             "#46039f"
            ],
            [
             0.2222222222222222,
             "#7201a8"
            ],
            [
             0.3333333333333333,
             "#9c179e"
            ],
            [
             0.4444444444444444,
             "#bd3786"
            ],
            [
             0.5555555555555556,
             "#d8576b"
            ],
            [
             0.6666666666666666,
             "#ed7953"
            ],
            [
             0.7777777777777778,
             "#fb9f3a"
            ],
            [
             0.8888888888888888,
             "#fdca26"
            ],
            [
             1,
             "#f0f921"
            ]
           ],
           "sequentialminus": [
            [
             0,
             "#0d0887"
            ],
            [
             0.1111111111111111,
             "#46039f"
            ],
            [
             0.2222222222222222,
             "#7201a8"
            ],
            [
             0.3333333333333333,
             "#9c179e"
            ],
            [
             0.4444444444444444,
             "#bd3786"
            ],
            [
             0.5555555555555556,
             "#d8576b"
            ],
            [
             0.6666666666666666,
             "#ed7953"
            ],
            [
             0.7777777777777778,
             "#fb9f3a"
            ],
            [
             0.8888888888888888,
             "#fdca26"
            ],
            [
             1,
             "#f0f921"
            ]
           ]
          },
          "colorway": [
           "#636efa",
           "#EF553B",
           "#00cc96",
           "#ab63fa",
           "#FFA15A",
           "#19d3f3",
           "#FF6692",
           "#B6E880",
           "#FF97FF",
           "#FECB52"
          ],
          "font": {
           "color": "#2a3f5f"
          },
          "geo": {
           "bgcolor": "white",
           "lakecolor": "white",
           "landcolor": "#E5ECF6",
           "showlakes": true,
           "showland": true,
           "subunitcolor": "white"
          },
          "hoverlabel": {
           "align": "left"
          },
          "hovermode": "closest",
          "mapbox": {
           "style": "light"
          },
          "paper_bgcolor": "white",
          "plot_bgcolor": "#E5ECF6",
          "polar": {
           "angularaxis": {
            "gridcolor": "white",
            "linecolor": "white",
            "ticks": ""
           },
           "bgcolor": "#E5ECF6",
           "radialaxis": {
            "gridcolor": "white",
            "linecolor": "white",
            "ticks": ""
           }
          },
          "scene": {
           "xaxis": {
            "backgroundcolor": "#E5ECF6",
            "gridcolor": "white",
            "gridwidth": 2,
            "linecolor": "white",
            "showbackground": true,
            "ticks": "",
            "zerolinecolor": "white"
           },
           "yaxis": {
            "backgroundcolor": "#E5ECF6",
            "gridcolor": "white",
            "gridwidth": 2,
            "linecolor": "white",
            "showbackground": true,
            "ticks": "",
            "zerolinecolor": "white"
           },
           "zaxis": {
            "backgroundcolor": "#E5ECF6",
            "gridcolor": "white",
            "gridwidth": 2,
            "linecolor": "white",
            "showbackground": true,
            "ticks": "",
            "zerolinecolor": "white"
           }
          },
          "shapedefaults": {
           "line": {
            "color": "#2a3f5f"
           }
          },
          "ternary": {
           "aaxis": {
            "gridcolor": "white",
            "linecolor": "white",
            "ticks": ""
           },
           "baxis": {
            "gridcolor": "white",
            "linecolor": "white",
            "ticks": ""
           },
           "bgcolor": "#E5ECF6",
           "caxis": {
            "gridcolor": "white",
            "linecolor": "white",
            "ticks": ""
           }
          },
          "title": {
           "x": 0.05
          },
          "xaxis": {
           "automargin": true,
           "gridcolor": "white",
           "linecolor": "white",
           "ticks": "",
           "title": {
            "standoff": 15
           },
           "zerolinecolor": "white",
           "zerolinewidth": 2
          },
          "yaxis": {
           "automargin": true,
           "gridcolor": "white",
           "linecolor": "white",
           "ticks": "",
           "title": {
            "standoff": 15
           },
           "zerolinecolor": "white",
           "zerolinewidth": 2
          }
         }
        },
        "xaxis": {
         "tickangle": 45,
         "title": {
          "text": "Skill"
         }
        },
        "yaxis": {
         "title": {
          "text": "Error skill (GT-IA)"
         }
        }
       }
      }
     },
     "metadata": {},
     "output_type": "display_data"
    }
   ],
   "source": [
    "fig = go.Figure()\n",
    "\n",
    "\n",
    "fig.add_trace(go.Scatter(\n",
    "    x=error_per_skill.index,\n",
    "    y=error_per_skill[\"Error skill\"],\n",
    "    mode=\"markers\",\n",
    "))\n",
    "\n",
    "fig.add_hline(y=1.75, line_dash=\"dash\", line_color=\"red\")\n",
    "\n",
    "\n",
    "fig.update_layout(\n",
    "    xaxis_title=\"Skill\",\n",
    "    yaxis_title=\"Error skill (GT-IA)\",\n",
    "    xaxis=dict(tickangle=45)\n",
    ")\n",
    "\n",
    "fig.show()\n"
   ]
  }
 ],
 "metadata": {
  "kernelspec": {
   "display_name": "students_env",
   "language": "python",
   "name": "python3"
  },
  "language_info": {
   "codemirror_mode": {
    "name": "ipython",
    "version": 3
   },
   "file_extension": ".py",
   "mimetype": "text/x-python",
   "name": "python",
   "nbconvert_exporter": "python",
   "pygments_lexer": "ipython3",
   "version": "3.10.13"
  }
 },
 "nbformat": 4,
 "nbformat_minor": 5
}
