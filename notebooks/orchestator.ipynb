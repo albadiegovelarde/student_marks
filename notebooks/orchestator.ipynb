{
 "cells": [
  {
   "cell_type": "code",
   "execution_count": 1,
   "id": "1c3065ab",
   "metadata": {},
   "outputs": [],
   "source": [
    "import sys\n",
    "import os \n",
    "sys.path.append(\"../student_marks\")"
   ]
  },
  {
   "cell_type": "code",
   "execution_count": 2,
   "id": "7231eb1e",
   "metadata": {},
   "outputs": [
    {
     "name": "stderr",
     "output_type": "stream",
     "text": [
      "/Users/albadiegovelarde/Library/CloudStorage/OneDrive-Repsol/Proyectos/student_marks/students_env/lib/python3.10/site-packages/tqdm/auto.py:21: TqdmWarning: IProgress not found. Please update jupyter and ipywidgets. See https://ipywidgets.readthedocs.io/en/stable/user_install.html\n",
      "  from .autonotebook import tqdm as notebook_tqdm\n",
      "Device set to use cpu\n"
     ]
    }
   ],
   "source": [
    "from indexer import StudentIndexBuilder\n",
    "from retriever import StudentRetriever\n",
    "from obtain_grade import load_skills, generate_prompt, generate_explanation_prompt, call_llm, compute_global_mark"
   ]
  },
  {
   "cell_type": "code",
   "execution_count": 3,
   "id": "ecff92d5",
   "metadata": {},
   "outputs": [
    {
     "name": "stdout",
     "output_type": "stream",
     "text": [
      "Uploading student YAML files\n",
      "Generating chunks\n",
      "Total chunks: 76\n",
      "Generating embeddings\n"
     ]
    }
   ],
   "source": [
    "repo_root = os.path.abspath(\"..\")\n",
    "yaml_dir = os.path.join(repo_root, \"data/student_reports\")\n",
    "index_file = os.path.join(repo_root, \"student_marks/students_info.index\")\n",
    "meta_file = os.path.join(repo_root, \"student_marks/students_metadata.npy\")\n",
    "\n",
    "index = StudentIndexBuilder(\n",
    "    yaml_dir=yaml_dir,\n",
    "    index_file=index_file,\n",
    "    meta_file=meta_file\n",
    ")\n",
    "index.build_index()\n"
   ]
  },
  {
   "cell_type": "code",
   "execution_count": 34,
   "id": "4e7c1563",
   "metadata": {},
   "outputs": [],
   "source": [
    "STUDENTS_IDS = [\"student_1\", \"student_2\", \"student_3\", \"student_4\"]\n",
    "SKILLS_YAML = os.path.join(repo_root, \"student_marks/skills.yaml\")\n",
    "TOP_K=3"
   ]
  },
  {
   "cell_type": "code",
   "execution_count": 35,
   "id": "d04081ec",
   "metadata": {},
   "outputs": [
    {
     "ename": "",
     "evalue": "",
     "output_type": "error",
     "traceback": [
      "\u001b[1;31mEl kernel se bloqueó al ejecutar código en la celda actual o en una celda anterior. \n",
      "\u001b[1;31mRevise el código de las celdas para identificar una posible causa del error. \n",
      "\u001b[1;31mHaga clic <a href='https://aka.ms/vscodeJupyterKernelCrash'>aquí</a> para obtener más información. \n",
      "\u001b[1;31mVea Jupyter <a href='command:jupyter.viewOutput'>log</a> para obtener más detalles."
     ]
    }
   ],
   "source": [
    "skills = load_skills(SKILLS_YAML)\n",
    "retriever = StudentRetriever(index_file=index_file, meta_file=meta_file)\n",
    "\n",
    "student_grades = {}\n",
    "\n",
    "for student_id in STUDENTS_IDS:\n",
    "    student_grades[student_id] = {}\n",
    "\n",
    "    for skill_name, skill_data in skills.items():\n",
    "        description = skill_data.get(\"description\", \"\")\n",
    "        instructions = skill_data.get(\"prompt_instructions\", \"\")\n",
    "        weight = skill_data.get(\"weight\", \"Error\")\n",
    "\n",
    "        chunks = retriever.retrieve(description, student_id=student_id, top_k=TOP_K)\n",
    "        if not chunks:\n",
    "            print(f\"No chunks found for student {student_id} and skill '{description}'\")\n",
    "            continue\n",
    "\n",
    "        grade_prompt = generate_prompt(instructions, chunks)\n",
    "        grade_output = call_llm(grade_prompt)\n",
    "        print(grade_output)\n",
    "\n",
    "        explanation_prompt = generate_explanation_prompt(instructions, chunks, grade_output, skill_name)\n",
    "        explanation_output = call_llm(explanation_prompt)\n",
    "        print(explanation_output)\n",
    "\n",
    "        student_grades[student_id][skill_name] = {\n",
    "            \"grade\": grade_output,\n",
    "            \"explanation\": explanation_output.strip(),\n",
    "            \"relevant_chunks\": chunks,\n",
    "            \"weight\": weight\n",
    "        }\n",
    "\n",
    "    global_mark = compute_global_mark(student_grades[student_id], skills)\n",
    "    student_grades[student_id][\"global grade\"] = global_mark\n",
    "\n",
    "rows = []\n",
    "for student_id, skills in student_grades.items():\n",
    "    global_grade = skills.get(\"global grade\")\n",
    "    for skill, result in skills.items():\n",
    "        if skill == \"global grade\":\n",
    "            continue\n",
    "        rows.append({\n",
    "            \"student_id\": student_id,\n",
    "            \"skill\": skill,\n",
    "            \"grade\": result.get(\"grade\"),\n",
    "            \"explanation\": result.get(\"explanation\"),\n",
    "            \"relevant_chunks\": [chunk['text'] for chunk in result.get(\"relevant_chunks\")],\n",
    "            \"global_grade\": global_grade\n",
    "            })\n",
    "student_grades_df = pd.DataFrame(rows)"
   ]
  }
 ],
 "metadata": {
  "kernelspec": {
   "display_name": "students_env",
   "language": "python",
   "name": "python3"
  },
  "language_info": {
   "codemirror_mode": {
    "name": "ipython",
    "version": 3
   },
   "file_extension": ".py",
   "mimetype": "text/x-python",
   "name": "python",
   "nbconvert_exporter": "python",
   "pygments_lexer": "ipython3",
   "version": "3.10.13"
  }
 },
 "nbformat": 4,
 "nbformat_minor": 5
}
