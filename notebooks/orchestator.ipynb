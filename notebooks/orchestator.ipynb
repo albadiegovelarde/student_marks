{
 "cells": [
  {
   "cell_type": "code",
   "execution_count": null,
   "id": "7231eb1e",
   "metadata": {},
   "outputs": [
    {
     "name": "stderr",
     "output_type": "stream",
     "text": [
      "/Users/albadiegovelarde/Library/CloudStorage/OneDrive-Repsol/Proyectos/student_marks/students_env/lib/python3.10/site-packages/tqdm/auto.py:21: TqdmWarning: IProgress not found. Please update jupyter and ipywidgets. See https://ipywidgets.readthedocs.io/en/stable/user_install.html\n",
      "  from .autonotebook import tqdm as notebook_tqdm\n"
     ]
    },
    {
     "name": "stdout",
     "output_type": "stream",
     "text": [
      "Cargando google/flan-t5-large para generar summary...\n"
     ]
    },
    {
     "name": "stderr",
     "output_type": "stream",
     "text": [
      "Device set to use cpu\n"
     ]
    }
   ],
   "source": [
    "from indexer import build_faiss_index\n",
    "from retriever import StudentRetriever\n",
    "from obtain_mark import load_skills, generate_prompt, call_llm, compute_global_mark"
   ]
  },
  {
   "cell_type": "code",
   "execution_count": null,
   "id": "24fe6fca",
   "metadata": {},
   "outputs": [],
   "source": [
    "YAML_DIR = \"./student_reports\"\n",
    "INDEX_FILE = \"students_info.index\"\n",
    "META_FILE = \"students_metadata.npy\""
   ]
  },
  {
   "cell_type": "code",
   "execution_count": 3,
   "id": "61080e91",
   "metadata": {},
   "outputs": [],
   "source": [
    "LLM_MODEL_NAME = \"google/flan-t5-large\""
   ]
  },
  {
   "cell_type": "code",
   "execution_count": 4,
   "id": "e3f325df",
   "metadata": {},
   "outputs": [
    {
     "name": "stdout",
     "output_type": "stream",
     "text": [
      "Cargando google/flan-t5-large para generar summary_short...\n"
     ]
    },
    {
     "name": "stderr",
     "output_type": "stream",
     "text": [
      "Device set to use cpu\n"
     ]
    }
   ],
   "source": [
    "from transformers import AutoTokenizer, AutoModelForSeq2SeqLM, pipeline\n",
    "import os \n",
    "\n",
    "print(f\"Cargando {LLM_MODEL_NAME} para generar summary_short...\")\n",
    "tokenizer = AutoTokenizer.from_pretrained(LLM_MODEL_NAME)\n",
    "llm_model = AutoModelForSeq2SeqLM.from_pretrained(LLM_MODEL_NAME)\n",
    "text_gen = pipeline(\n",
    "    \"text2text-generation\",\n",
    "    model=llm_model,\n",
    "    tokenizer=tokenizer,\n",
    "    max_new_tokens=150,\n",
    "    device=0 if os.environ.get(\"CUDA_VISIBLE_DEVICES\") else -1\n",
    ")"
   ]
  },
  {
   "cell_type": "code",
   "execution_count": 5,
   "id": "40954661",
   "metadata": {},
   "outputs": [
    {
     "name": "stdout",
     "output_type": "stream",
     "text": [
      "Cargando archivos YAML de alumnos...\n",
      "Creando chunks y generando summaries con LLM...\n",
      "Total de chunks: 11\n",
      "Calculando embeddings con sentence-transformers...\n"
     ]
    },
    {
     "name": "stderr",
     "output_type": "stream",
     "text": [
      "ERROR:tornado.general:SEND Error: Host unreachable\n"
     ]
    },
    {
     "name": "stdout",
     "output_type": "stream",
     "text": [
      "Índice guardado en students_info.index\n",
      "Metadatos guardados en students_metadata.npy\n"
     ]
    }
   ],
   "source": [
    "build_faiss_index(YAML_DIR, INDEX_FILE, META_FILE)"
   ]
  },
  {
   "cell_type": "code",
   "execution_count": null,
   "id": "4e7c1563",
   "metadata": {},
   "outputs": [],
   "source": [
    "STUDENTS_IDS = [\"student_1\", \"student_2\"]  # Lista de ids de alumnos\n",
    "SKILLS_YAML = \"/content/drive/MyDrive/Colab Notebooks/competences.yaml\""
   ]
  },
  {
   "cell_type": "code",
   "execution_count": null,
   "id": "d04081ec",
   "metadata": {},
   "outputs": [],
   "source": [
    "skills = load_skills(SKILLS_YAML)\n",
    "# Inicializar retriever\n",
    "retriever = StudentRetriever()\n",
    "\n",
    "# Diccionario final con todas las notas\n",
    "student_grades = {}\n",
    "\n",
    "for student_id in STUDENTS_IDS:\n",
    "    print(student_id)\n",
    "    student_grades[student_id] = {}\n",
    "    for skill_name, skill_data in skills.items():\n",
    "        print(skill_name)\n",
    "        description = skill_data.get(\"description\", \"\")\n",
    "        instructions = skill_data.get(\"prompt_instructions\", \"\")\n",
    "\n",
    "        # Retrieval de chunks relevantes\n",
    "        chunks = retriever.retrieve(description, student_id=student_id, top_k=TOP_K)\n",
    "\n",
    "        if not chunks:\n",
    "            print(f\"No se encontraron chunks para student {student_id} y criterio '{description}'\")\n",
    "            continue\n",
    "\n",
    "        # Generar prompt\n",
    "        prompt = generate_prompt(instructions, chunks, description, skill_name)\n",
    "\n",
    "        # Llamar al LLM\n",
    "        llm_output = call_llm(prompt)\n",
    "\n",
    "        # Guardar resultado\n",
    "        student_grades[student_id][skill_name] = llm_output\n",
    "    \n",
    "    # Cálculo nota global ponderada\n",
    "        global_mark = compute_global_mark(student_grades[student_id], skills)\n",
    "        student_grades[student_id][\"global_mark\"] = global_mark\n",
    "\n",
    "# Imprimir resultados\n",
    "for student_id, grades in student_grades.items():\n",
    "    print(f\"\\nAlumno: {student_id}\")\n",
    "    for skill_desc, result in grades.items():\n",
    "        print(f\"Criterio: {skill_desc}\")\n",
    "        print(f\"Resultado LLM: {result}\\n\")\n"
   ]
  }
 ],
 "metadata": {
  "kernelspec": {
   "display_name": "students_env",
   "language": "python",
   "name": "python3"
  },
  "language_info": {
   "codemirror_mode": {
    "name": "ipython",
    "version": 3
   },
   "file_extension": ".py",
   "mimetype": "text/x-python",
   "name": "python",
   "nbconvert_exporter": "python",
   "pygments_lexer": "ipython3",
   "version": "3.10.13"
  }
 },
 "nbformat": 4,
 "nbformat_minor": 5
}
